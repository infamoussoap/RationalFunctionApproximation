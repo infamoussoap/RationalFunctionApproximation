{
 "cells": [
  {
   "cell_type": "code",
   "execution_count": 1,
   "id": "35e32153-3f10-4f21-90c4-1536eab0c95f",
   "metadata": {},
   "outputs": [],
   "source": [
    "import numpy as np\n",
    "import matplotlib.pyplot as plt\n",
    "\n",
    "import pandas as pd\n",
    "\n",
    "import scipy"
   ]
  },
  {
   "cell_type": "code",
   "execution_count": 2,
   "id": "12dca64d",
   "metadata": {},
   "outputs": [],
   "source": [
    "import seaborn as sns"
   ]
  },
  {
   "cell_type": "code",
   "execution_count": 3,
   "id": "c4ca4c46",
   "metadata": {},
   "outputs": [],
   "source": [
    "import sys\n",
    "sys.path.append('..')\n",
    "\n",
    "from Approximators.Bernstein import CauchySimplex"
   ]
  },
  {
   "cell_type": "code",
   "execution_count": 4,
   "id": "e233f0ad-3cab-4a25-93a5-b2c5f04c85bd",
   "metadata": {},
   "outputs": [],
   "source": [
    "from utils import solve_multiple_coefficient_bessel"
   ]
  },
  {
   "cell_type": "markdown",
   "id": "14c2d722",
   "metadata": {},
   "source": [
    "Consider Bessel's differential equation with initial conditions $y(0)=y(1)=0$. Let $J_m(x)$ and $Y_m(x)$ be Bessel functions of the first and second kind, respectively. Then, this differential equation has solutions of the form\n",
    "\\begin{align}\n",
    "    y = c_1J_m(\\sqrt{\\lambda} x) + c_2Y_m(\\sqrt{\\lambda} x),\n",
    "\\end{align}\n",
    "for constants $c_1, c_2$. To satisfy the initial conditions, we must have that $c_2=0$ and $J_m(\\sqrt{\\lambda})=0$. Thus, the eigenvalues of Bessel's differential equation are the square of the roots of the $m$-th Bessel's function, $J_m$.\n",
    "\n",
    "Take the parameterization $x=e^z-1$. Then this differential equation can be rewritten as\n",
    "\\begin{align}\n",
    "    (1-e^{-z})^2y''(z)\\ +\\ e^{-z}(1-e^{-z})y'(z)\\ +\\ (\\lambda(e^z-1)^2-m^2)y(z)\\ =\\ 0,\n",
    "\\end{align}\n",
    "with initial conditions $y(0)=y(\\ln(2))=0$.\n",
    "\n",
    "Take the parameterization $x=e^{az}-1$. Then this differential equation can be rewritten as\n",
    "\\begin{align}\n",
    "    \\frac{1}{a^2}(1-e^{-az})^2y''(z)\\ +\\ \\frac{1}{a}e^{-az}(1-e^{-az})y'(z)\\ +\\ (\\lambda(e^{az}-1)^2-m^2)y(z)\\ =\\ 0,\n",
    "\\end{align}\n",
    "with initial conditions $y(0)=y(\\ln(2)/a)=0$.\n"
   ]
  },
  {
   "cell_type": "code",
   "execution_count": 5,
   "id": "ef893248",
   "metadata": {},
   "outputs": [],
   "source": [
    "m = 2\n",
    "a = 1"
   ]
  },
  {
   "cell_type": "code",
   "execution_count": 6,
   "id": "14f9db2e",
   "metadata": {},
   "outputs": [],
   "source": [
    "x = np.linspace(0, np.log(2) / a, 256)\n",
    "y = [(1 - np.exp(-a * x)) ** 2 / (a ** 2), np.exp(-a * x) * (1 - np.exp(-a * x)) / a, \n",
    "     (np.exp(a * x) - 1) ** 2]"
   ]
  },
  {
   "cell_type": "code",
   "execution_count": 7,
   "id": "77159b20",
   "metadata": {},
   "outputs": [],
   "source": [
    "n_eigenvals = 20"
   ]
  },
  {
   "cell_type": "code",
   "execution_count": 8,
   "id": "b9b163e6",
   "metadata": {},
   "outputs": [],
   "source": [
    "n_vals = np.arange(4, 20 + 1, 1)"
   ]
  },
  {
   "cell_type": "code",
   "execution_count": 9,
   "id": "d0ea5b36",
   "metadata": {},
   "outputs": [],
   "source": [
    "true_eigenvalues = scipy.special.jn_zeros(m, n_eigenvals) ** 2"
   ]
  },
  {
   "cell_type": "code",
   "execution_count": 10,
   "id": "dacbf781",
   "metadata": {},
   "outputs": [
    {
     "data": {
      "text/plain": [
       "4096"
      ]
     },
     "execution_count": 10,
     "metadata": {},
     "output_type": "execute_result"
    }
   ],
   "source": [
    "Nx = 2 ** 12\n",
    "Nx"
   ]
  },
  {
   "cell_type": "markdown",
   "id": "5194ff49",
   "metadata": {},
   "source": [
    "# Polynomial Approximation"
   ]
  },
  {
   "cell_type": "code",
   "execution_count": 11,
   "id": "b2a41d01",
   "metadata": {},
   "outputs": [],
   "source": [
    "polynomial_results = []"
   ]
  },
  {
   "cell_type": "code",
   "execution_count": 12,
   "id": "8e615a5b",
   "metadata": {
    "scrolled": false
   },
   "outputs": [
    {
     "name": "stdout",
     "output_type": "stream",
     "text": [
      "Starting n = 4\n",
      "2023-10-05 12:42:51,248 subsystems 0/1 INFO :: Building subproblem matrices 1/1 (~100%) Elapsed: 1s, Remaining: 0s, Rate: 1.3e+00/s\n",
      "Starting n = 5\n",
      "2023-10-05 12:42:52,648 subsystems 0/1 INFO :: Building subproblem matrices 1/1 (~100%) Elapsed: 1s, Remaining: 0s, Rate: 1.2e+00/s\n",
      "Starting n = 6\n",
      "2023-10-05 12:42:54,096 subsystems 0/1 INFO :: Building subproblem matrices 1/1 (~100%) Elapsed: 1s, Remaining: 0s, Rate: 1.1e+00/s\n",
      "Starting n = 7\n",
      "2023-10-05 12:42:55,780 subsystems 0/1 INFO :: Building subproblem matrices 1/1 (~100%) Elapsed: 1s, Remaining: 0s, Rate: 8.6e-01/s\n",
      "Starting n = 8\n",
      "2023-10-05 12:42:57,496 subsystems 0/1 INFO :: Building subproblem matrices 1/1 (~100%) Elapsed: 1s, Remaining: 0s, Rate: 8.8e-01/s\n",
      "Starting n = 9\n",
      "2023-10-05 12:42:59,279 subsystems 0/1 INFO :: Building subproblem matrices 1/1 (~100%) Elapsed: 1s, Remaining: 0s, Rate: 8.0e-01/s\n",
      "Starting n = 10\n",
      "2023-10-05 12:43:01,140 subsystems 0/1 INFO :: Building subproblem matrices 1/1 (~100%) Elapsed: 1s, Remaining: 0s, Rate: 7.6e-01/s\n",
      "Starting n = 11\n",
      "2023-10-05 12:43:03,084 subsystems 0/1 INFO :: Building subproblem matrices 1/1 (~100%) Elapsed: 1s, Remaining: 0s, Rate: 7.2e-01/s\n",
      "Starting n = 12\n",
      "2023-10-05 12:43:04,987 subsystems 0/1 INFO :: Building subproblem matrices 1/1 (~100%) Elapsed: 1s, Remaining: 0s, Rate: 7.4e-01/s\n",
      "Starting n = 13\n",
      "2023-10-05 12:43:06,951 subsystems 0/1 INFO :: Building subproblem matrices 1/1 (~100%) Elapsed: 1s, Remaining: 0s, Rate: 7.1e-01/s\n",
      "Starting n = 14\n",
      "2023-10-05 12:43:08,849 subsystems 0/1 INFO :: Building subproblem matrices 1/1 (~100%) Elapsed: 1s, Remaining: 0s, Rate: 7.4e-01/s\n",
      "Starting n = 15\n",
      "2023-10-05 12:43:10,843 subsystems 0/1 INFO :: Building subproblem matrices 1/1 (~100%) Elapsed: 1s, Remaining: 0s, Rate: 6.9e-01/s\n",
      "Starting n = 16\n",
      "2023-10-05 12:43:12,820 subsystems 0/1 INFO :: Building subproblem matrices 1/1 (~100%) Elapsed: 1s, Remaining: 0s, Rate: 7.1e-01/s\n",
      "Starting n = 17\n",
      "2023-10-05 12:43:14,801 subsystems 0/1 INFO :: Building subproblem matrices 1/1 (~100%) Elapsed: 1s, Remaining: 0s, Rate: 7.0e-01/s\n",
      "Starting n = 18\n",
      "2023-10-05 12:43:16,807 subsystems 0/1 INFO :: Building subproblem matrices 1/1 (~100%) Elapsed: 1s, Remaining: 0s, Rate: 6.9e-01/s\n",
      "Starting n = 19\n",
      "2023-10-05 12:43:18,749 subsystems 0/1 INFO :: Building subproblem matrices 1/1 (~100%) Elapsed: 1s, Remaining: 0s, Rate: 7.2e-01/s\n",
      "Starting n = 20\n",
      "2023-10-05 12:43:20,649 subsystems 0/1 INFO :: Building subproblem matrices 1/1 (~100%) Elapsed: 1s, Remaining: 0s, Rate: 7.4e-01/s\n"
     ]
    }
   ],
   "source": [
    "for n in n_vals:\n",
    "    print(f\"Starting n = {n}\")\n",
    "\n",
    "    polynomial_approximator = CauchySimplex(n, 0).fit(x, y)\n",
    "    \n",
    "    time_taken, solver = solve_multiple_coefficient_bessel(polynomial_approximator, a, m, Lx=0, Ux=np.log(2)/a, \n",
    "                                                           Nx=Nx, dtype=np.float64, n_eigenvals=n_eigenvals, \n",
    "                                                           n_runs=5)\n",
    "    \n",
    "    evals = np.sort(solver.eigenvalues.real)\n",
    "    \n",
    "    y_pred = polynomial_approximator(x)\n",
    "    approximation_error = np.mean([np.linalg.norm(y1 - y2) for (y1, y2) in zip(y_pred, y)])\n",
    "\n",
    "    ratio_dataframe = pd.DataFrame(abs(evals - true_eigenvalues), columns=['Eigenvalue Errors'])\n",
    "    ratio_dataframe['Approximator'] = 'Polynomial'\n",
    "    ratio_dataframe['Approximation Error'] = approximation_error\n",
    "    ratio_dataframe['Num. Coefs'] = n\n",
    "    ratio_dataframe['Time'] = time_taken\n",
    "    \n",
    "    polynomial_results.append(ratio_dataframe)"
   ]
  },
  {
   "cell_type": "markdown",
   "id": "0367598e",
   "metadata": {},
   "source": [
    "# Rational Approximation"
   ]
  },
  {
   "cell_type": "code",
   "execution_count": 13,
   "id": "2df5fdf0",
   "metadata": {},
   "outputs": [],
   "source": [
    "rational_results = []"
   ]
  },
  {
   "cell_type": "code",
   "execution_count": 14,
   "id": "9ebcd3e9",
   "metadata": {
    "scrolled": false
   },
   "outputs": [
    {
     "name": "stdout",
     "output_type": "stream",
     "text": [
      "Starting n = 4\n",
      "2023-10-05 12:43:22,032 subsystems 0/1 INFO :: Building subproblem matrices 1/1 (~100%) Elapsed: 1s, Remaining: 0s, Rate: 1.2e+00/s\n",
      "Starting n = 5\n",
      "2023-10-05 12:43:23,399 subsystems 0/1 INFO :: Building subproblem matrices 1/1 (~100%) Elapsed: 1s, Remaining: 0s, Rate: 1.2e+00/s\n",
      "Starting n = 6\n",
      "2023-10-05 12:43:25,010 subsystems 0/1 INFO :: Building subproblem matrices 1/1 (~100%) Elapsed: 1s, Remaining: 0s, Rate: 1.0e+00/s\n",
      "Starting n = 7\n",
      "2023-10-05 12:43:26,621 subsystems 0/1 INFO :: Building subproblem matrices 1/1 (~100%) Elapsed: 1s, Remaining: 0s, Rate: 9.5e-01/s\n",
      "Starting n = 8\n",
      "2023-10-05 12:43:28,371 subsystems 0/1 INFO :: Building subproblem matrices 1/1 (~100%) Elapsed: 1s, Remaining: 0s, Rate: 8.4e-01/s\n",
      "Starting n = 9\n",
      "2023-10-05 12:43:30,172 subsystems 0/1 INFO :: Building subproblem matrices 1/1 (~100%) Elapsed: 1s, Remaining: 0s, Rate: 8.2e-01/s\n",
      "Starting n = 10\n",
      "2023-10-05 12:43:32,111 subsystems 0/1 INFO :: Building subproblem matrices 1/1 (~100%) Elapsed: 1s, Remaining: 0s, Rate: 7.4e-01/s\n",
      "Starting n = 11\n",
      "2023-10-05 12:43:34,129 subsystems 0/1 INFO :: Building subproblem matrices 1/1 (~100%) Elapsed: 1s, Remaining: 0s, Rate: 7.0e-01/s\n",
      "Starting n = 12\n",
      "2023-10-05 12:43:36,204 subsystems 0/1 INFO :: Building subproblem matrices 1/1 (~100%) Elapsed: 1s, Remaining: 0s, Rate: 6.7e-01/s\n",
      "Starting n = 13\n",
      "2023-10-05 12:43:38,388 subsystems 0/1 INFO :: Building subproblem matrices 1/1 (~100%) Elapsed: 2s, Remaining: 0s, Rate: 6.3e-01/s\n",
      "Starting n = 14\n",
      "2023-10-05 12:43:40,626 subsystems 0/1 INFO :: Building subproblem matrices 1/1 (~100%) Elapsed: 2s, Remaining: 0s, Rate: 6.1e-01/s\n",
      "Starting n = 15\n",
      "2023-10-05 12:43:42,951 subsystems 0/1 INFO :: Building subproblem matrices 1/1 (~100%) Elapsed: 2s, Remaining: 0s, Rate: 5.8e-01/s\n",
      "Starting n = 16\n",
      "2023-10-05 12:43:45,615 subsystems 0/1 INFO :: Building subproblem matrices 1/1 (~100%) Elapsed: 2s, Remaining: 0s, Rate: 4.9e-01/s\n",
      "Starting n = 17\n",
      "2023-10-05 12:43:48,287 subsystems 0/1 INFO :: Building subproblem matrices 1/1 (~100%) Elapsed: 2s, Remaining: 0s, Rate: 5.0e-01/s\n",
      "Starting n = 18\n",
      "2023-10-05 12:43:51,190 subsystems 0/1 INFO :: Building subproblem matrices 1/1 (~100%) Elapsed: 2s, Remaining: 0s, Rate: 4.4e-01/s\n",
      "Starting n = 19\n",
      "2023-10-05 12:43:54,169 subsystems 0/1 INFO :: Building subproblem matrices 1/1 (~100%) Elapsed: 2s, Remaining: 0s, Rate: 4.3e-01/s\n",
      "Starting n = 20\n",
      "2023-10-05 12:43:57,405 subsystems 0/1 INFO :: Building subproblem matrices 1/1 (~100%) Elapsed: 3s, Remaining: 0s, Rate: 4.0e-01/s\n"
     ]
    }
   ],
   "source": [
    "for n in n_vals:\n",
    "    print(f\"Starting n = {n}\")\n",
    "\n",
    "    rational_approximator = CauchySimplex(n, n, hot_start=True, max_iter=500).fit(x, y)\n",
    "    \n",
    "    time_taken, solver = solve_multiple_coefficient_bessel(rational_approximator, a, m, Lx=0, Ux=np.log(2)/a, \n",
    "                                                           Nx=Nx, dtype=np.float64, n_eigenvals=n_eigenvals, \n",
    "                                                           n_runs=5)\n",
    "    \n",
    "    evals = np.sort(solver.eigenvalues.real)\n",
    "    \n",
    "    y_pred = rational_approximator(x)\n",
    "    approximation_error = np.mean([np.linalg.norm(y1 - y2) for (y1, y2) in zip(y_pred, y)])\n",
    "\n",
    "    ratio_dataframe = pd.DataFrame(abs(evals - true_eigenvalues), columns=['Eigenvalue Errors'])\n",
    "    ratio_dataframe['Approximator'] = 'Rational'\n",
    "    ratio_dataframe['Approximation Error'] = approximation_error\n",
    "    ratio_dataframe['Num. Coefs'] = n\n",
    "    ratio_dataframe['Time'] = time_taken\n",
    "    \n",
    "    rational_results.append(ratio_dataframe)"
   ]
  },
  {
   "cell_type": "markdown",
   "id": "a9b80e74",
   "metadata": {},
   "source": [
    "# Results"
   ]
  },
  {
   "cell_type": "code",
   "execution_count": 15,
   "id": "2d2d92d0",
   "metadata": {},
   "outputs": [],
   "source": [
    "results_df = pd.concat(polynomial_results + rational_results)"
   ]
  },
  {
   "cell_type": "code",
   "execution_count": 16,
   "id": "652363a9",
   "metadata": {},
   "outputs": [
    {
     "data": {
      "text/html": [
       "<div>\n",
       "<style scoped>\n",
       "    .dataframe tbody tr th:only-of-type {\n",
       "        vertical-align: middle;\n",
       "    }\n",
       "\n",
       "    .dataframe tbody tr th {\n",
       "        vertical-align: top;\n",
       "    }\n",
       "\n",
       "    .dataframe thead th {\n",
       "        text-align: right;\n",
       "    }\n",
       "</style>\n",
       "<table border=\"1\" class=\"dataframe\">\n",
       "  <thead>\n",
       "    <tr style=\"text-align: right;\">\n",
       "      <th></th>\n",
       "      <th>Eigenvalue Errors</th>\n",
       "      <th>Approximator</th>\n",
       "      <th>Approximation Error</th>\n",
       "      <th>Num. Coefs</th>\n",
       "      <th>Time</th>\n",
       "    </tr>\n",
       "  </thead>\n",
       "  <tbody>\n",
       "    <tr>\n",
       "      <th>0</th>\n",
       "      <td>0.002180</td>\n",
       "      <td>Polynomial</td>\n",
       "      <td>0.000807</td>\n",
       "      <td>4</td>\n",
       "      <td>0.304829</td>\n",
       "    </tr>\n",
       "    <tr>\n",
       "      <th>1</th>\n",
       "      <td>0.024970</td>\n",
       "      <td>Polynomial</td>\n",
       "      <td>0.000807</td>\n",
       "      <td>4</td>\n",
       "      <td>0.304829</td>\n",
       "    </tr>\n",
       "    <tr>\n",
       "      <th>2</th>\n",
       "      <td>0.052212</td>\n",
       "      <td>Polynomial</td>\n",
       "      <td>0.000807</td>\n",
       "      <td>4</td>\n",
       "      <td>0.304829</td>\n",
       "    </tr>\n",
       "    <tr>\n",
       "      <th>3</th>\n",
       "      <td>0.017421</td>\n",
       "      <td>Polynomial</td>\n",
       "      <td>0.000807</td>\n",
       "      <td>4</td>\n",
       "      <td>0.304829</td>\n",
       "    </tr>\n",
       "    <tr>\n",
       "      <th>4</th>\n",
       "      <td>0.115873</td>\n",
       "      <td>Polynomial</td>\n",
       "      <td>0.000807</td>\n",
       "      <td>4</td>\n",
       "      <td>0.304829</td>\n",
       "    </tr>\n",
       "  </tbody>\n",
       "</table>\n",
       "</div>"
      ],
      "text/plain": [
       "   Eigenvalue Errors Approximator  Approximation Error  Num. Coefs      Time\n",
       "0           0.002180   Polynomial             0.000807           4  0.304829\n",
       "1           0.024970   Polynomial             0.000807           4  0.304829\n",
       "2           0.052212   Polynomial             0.000807           4  0.304829\n",
       "3           0.017421   Polynomial             0.000807           4  0.304829\n",
       "4           0.115873   Polynomial             0.000807           4  0.304829"
      ]
     },
     "execution_count": 16,
     "metadata": {},
     "output_type": "execute_result"
    }
   ],
   "source": [
    "results_df.head()"
   ]
  },
  {
   "cell_type": "code",
   "execution_count": 17,
   "id": "8c464f6c",
   "metadata": {},
   "outputs": [],
   "source": [
    "average_error = results_df.groupby(['Num. Coefs', 'Approximator']).mean()['Eigenvalue Errors'].copy()\n",
    "average_error.name = 'Eigenvalue Error'\n",
    "\n",
    "time_taken = results_df.groupby(['Num. Coefs', 'Approximator']).mean()['Time']\n",
    "time_taken.name = 'Time (sec)'"
   ]
  },
  {
   "cell_type": "code",
   "execution_count": 18,
   "id": "4cc93d53",
   "metadata": {},
   "outputs": [],
   "source": [
    "approximation_error = results_df.groupby(['Num. Coefs', 'Approximator']).mean()['Approximation Error']"
   ]
  },
  {
   "cell_type": "code",
   "execution_count": 19,
   "id": "2f3767ef",
   "metadata": {},
   "outputs": [],
   "source": [
    "results = pd.concat([average_error, approximation_error, time_taken], axis=1).reset_index()\n",
    "results = results.pivot_table(index='Num. Coefs', columns='Approximator')"
   ]
  },
  {
   "cell_type": "code",
   "execution_count": 20,
   "id": "955032ae",
   "metadata": {},
   "outputs": [],
   "source": [
    "column_order = [(col_name, approximator_type) \n",
    "                for col_name in ['Eigenvalue Error', 'Approximation Error', 'Time (sec)']\n",
    "                for approximator_type in ['Polynomial', 'Rational']]"
   ]
  },
  {
   "cell_type": "code",
   "execution_count": 21,
   "id": "9c782d50",
   "metadata": {},
   "outputs": [],
   "source": [
    "results = results.loc[:, column_order]"
   ]
  },
  {
   "cell_type": "code",
   "execution_count": 22,
   "id": "1cdd7f12",
   "metadata": {},
   "outputs": [
    {
     "data": {
      "text/html": [
       "<div>\n",
       "<style scoped>\n",
       "    .dataframe tbody tr th:only-of-type {\n",
       "        vertical-align: middle;\n",
       "    }\n",
       "\n",
       "    .dataframe tbody tr th {\n",
       "        vertical-align: top;\n",
       "    }\n",
       "\n",
       "    .dataframe thead tr th {\n",
       "        text-align: left;\n",
       "    }\n",
       "\n",
       "    .dataframe thead tr:last-of-type th {\n",
       "        text-align: right;\n",
       "    }\n",
       "</style>\n",
       "<table border=\"1\" class=\"dataframe\">\n",
       "  <thead>\n",
       "    <tr>\n",
       "      <th></th>\n",
       "      <th colspan=\"2\" halign=\"left\">Eigenvalue Error</th>\n",
       "      <th colspan=\"2\" halign=\"left\">Approximation Error</th>\n",
       "      <th colspan=\"2\" halign=\"left\">Time (sec)</th>\n",
       "    </tr>\n",
       "    <tr>\n",
       "      <th>Approximator</th>\n",
       "      <th>Polynomial</th>\n",
       "      <th>Rational</th>\n",
       "      <th>Polynomial</th>\n",
       "      <th>Rational</th>\n",
       "      <th>Polynomial</th>\n",
       "      <th>Rational</th>\n",
       "    </tr>\n",
       "    <tr>\n",
       "      <th>Num. Coefs</th>\n",
       "      <th></th>\n",
       "      <th></th>\n",
       "      <th></th>\n",
       "      <th></th>\n",
       "      <th></th>\n",
       "      <th></th>\n",
       "    </tr>\n",
       "  </thead>\n",
       "  <tbody>\n",
       "    <tr>\n",
       "      <th>4</th>\n",
       "      <td>1.143105e+02</td>\n",
       "      <td>8.514702e-03</td>\n",
       "      <td>8.065302e-04</td>\n",
       "      <td>6.459914e-06</td>\n",
       "      <td>0.304829</td>\n",
       "      <td>0.264304</td>\n",
       "    </tr>\n",
       "    <tr>\n",
       "      <th>5</th>\n",
       "      <td>2.306063e-01</td>\n",
       "      <td>4.709668e-04</td>\n",
       "      <td>4.803097e-05</td>\n",
       "      <td>8.522387e-08</td>\n",
       "      <td>0.275639</td>\n",
       "      <td>0.267124</td>\n",
       "    </tr>\n",
       "    <tr>\n",
       "      <th>6</th>\n",
       "      <td>1.569276e-02</td>\n",
       "      <td>1.711326e-06</td>\n",
       "      <td>2.418464e-06</td>\n",
       "      <td>1.058997e-09</td>\n",
       "      <td>0.285946</td>\n",
       "      <td>0.300395</td>\n",
       "    </tr>\n",
       "    <tr>\n",
       "      <th>7</th>\n",
       "      <td>4.490605e-04</td>\n",
       "      <td>1.768933e-09</td>\n",
       "      <td>1.058366e-07</td>\n",
       "      <td>1.695614e-12</td>\n",
       "      <td>0.344226</td>\n",
       "      <td>0.315251</td>\n",
       "    </tr>\n",
       "    <tr>\n",
       "      <th>8</th>\n",
       "      <td>1.292217e-05</td>\n",
       "      <td>3.935522e-10</td>\n",
       "      <td>4.102922e-09</td>\n",
       "      <td>3.830889e-13</td>\n",
       "      <td>0.329700</td>\n",
       "      <td>0.341809</td>\n",
       "    </tr>\n",
       "    <tr>\n",
       "      <th>9</th>\n",
       "      <td>2.260724e-07</td>\n",
       "      <td>1.477598e-10</td>\n",
       "      <td>1.428941e-10</td>\n",
       "      <td>2.326859e-14</td>\n",
       "      <td>0.354465</td>\n",
       "      <td>0.349608</td>\n",
       "    </tr>\n",
       "    <tr>\n",
       "      <th>10</th>\n",
       "      <td>1.219829e-08</td>\n",
       "      <td>4.504965e-11</td>\n",
       "      <td>4.519707e-12</td>\n",
       "      <td>1.344817e-14</td>\n",
       "      <td>0.369046</td>\n",
       "      <td>0.377657</td>\n",
       "    </tr>\n",
       "    <tr>\n",
       "      <th>11</th>\n",
       "      <td>2.553179e-09</td>\n",
       "      <td>2.930995e-08</td>\n",
       "      <td>1.310151e-13</td>\n",
       "      <td>1.950053e-14</td>\n",
       "      <td>0.384664</td>\n",
       "      <td>0.392696</td>\n",
       "    </tr>\n",
       "    <tr>\n",
       "      <th>12</th>\n",
       "      <td>2.507138e-09</td>\n",
       "      <td>1.497094e-07</td>\n",
       "      <td>5.571855e-15</td>\n",
       "      <td>5.279098e-14</td>\n",
       "      <td>0.376545</td>\n",
       "      <td>0.402900</td>\n",
       "    </tr>\n",
       "    <tr>\n",
       "      <th>13</th>\n",
       "      <td>2.494897e-09</td>\n",
       "      <td>3.479149e-08</td>\n",
       "      <td>3.954182e-15</td>\n",
       "      <td>2.519539e-14</td>\n",
       "      <td>0.388549</td>\n",
       "      <td>0.424211</td>\n",
       "    </tr>\n",
       "    <tr>\n",
       "      <th>14</th>\n",
       "      <td>2.522943e-09</td>\n",
       "      <td>7.197956e-08</td>\n",
       "      <td>4.065601e-15</td>\n",
       "      <td>2.364888e-13</td>\n",
       "      <td>0.375645</td>\n",
       "      <td>0.432685</td>\n",
       "    </tr>\n",
       "    <tr>\n",
       "      <th>15</th>\n",
       "      <td>2.458164e-09</td>\n",
       "      <td>5.454224e-08</td>\n",
       "      <td>2.273765e-14</td>\n",
       "      <td>3.582096e-13</td>\n",
       "      <td>0.398776</td>\n",
       "      <td>0.449777</td>\n",
       "    </tr>\n",
       "    <tr>\n",
       "      <th>16</th>\n",
       "      <td>2.410553e-09</td>\n",
       "      <td>5.055905e-08</td>\n",
       "      <td>3.175847e-14</td>\n",
       "      <td>9.582135e-13</td>\n",
       "      <td>0.388566</td>\n",
       "      <td>0.523832</td>\n",
       "    </tr>\n",
       "    <tr>\n",
       "      <th>17</th>\n",
       "      <td>2.389374e-09</td>\n",
       "      <td>6.925822e-08</td>\n",
       "      <td>3.945272e-14</td>\n",
       "      <td>1.340202e-12</td>\n",
       "      <td>0.390876</td>\n",
       "      <td>0.511815</td>\n",
       "    </tr>\n",
       "    <tr>\n",
       "      <th>18</th>\n",
       "      <td>2.444482e-09</td>\n",
       "      <td>5.329954e-08</td>\n",
       "      <td>1.634799e-14</td>\n",
       "      <td>8.505014e-13</td>\n",
       "      <td>0.396684</td>\n",
       "      <td>0.562794</td>\n",
       "    </tr>\n",
       "    <tr>\n",
       "      <th>19</th>\n",
       "      <td>2.498570e-09</td>\n",
       "      <td>1.529129e-08</td>\n",
       "      <td>1.704999e-14</td>\n",
       "      <td>2.165451e-12</td>\n",
       "      <td>0.383640</td>\n",
       "      <td>0.580423</td>\n",
       "    </tr>\n",
       "    <tr>\n",
       "      <th>20</th>\n",
       "      <td>2.435204e-09</td>\n",
       "      <td>2.308255e-08</td>\n",
       "      <td>2.374595e-14</td>\n",
       "      <td>1.499045e-12</td>\n",
       "      <td>0.374358</td>\n",
       "      <td>0.616725</td>\n",
       "    </tr>\n",
       "  </tbody>\n",
       "</table>\n",
       "</div>"
      ],
      "text/plain": [
       "             Eigenvalue Error               Approximation Error                \\\n",
       "Approximator       Polynomial      Rational          Polynomial      Rational   \n",
       "Num. Coefs                                                                      \n",
       "4                1.143105e+02  8.514702e-03        8.065302e-04  6.459914e-06   \n",
       "5                2.306063e-01  4.709668e-04        4.803097e-05  8.522387e-08   \n",
       "6                1.569276e-02  1.711326e-06        2.418464e-06  1.058997e-09   \n",
       "7                4.490605e-04  1.768933e-09        1.058366e-07  1.695614e-12   \n",
       "8                1.292217e-05  3.935522e-10        4.102922e-09  3.830889e-13   \n",
       "9                2.260724e-07  1.477598e-10        1.428941e-10  2.326859e-14   \n",
       "10               1.219829e-08  4.504965e-11        4.519707e-12  1.344817e-14   \n",
       "11               2.553179e-09  2.930995e-08        1.310151e-13  1.950053e-14   \n",
       "12               2.507138e-09  1.497094e-07        5.571855e-15  5.279098e-14   \n",
       "13               2.494897e-09  3.479149e-08        3.954182e-15  2.519539e-14   \n",
       "14               2.522943e-09  7.197956e-08        4.065601e-15  2.364888e-13   \n",
       "15               2.458164e-09  5.454224e-08        2.273765e-14  3.582096e-13   \n",
       "16               2.410553e-09  5.055905e-08        3.175847e-14  9.582135e-13   \n",
       "17               2.389374e-09  6.925822e-08        3.945272e-14  1.340202e-12   \n",
       "18               2.444482e-09  5.329954e-08        1.634799e-14  8.505014e-13   \n",
       "19               2.498570e-09  1.529129e-08        1.704999e-14  2.165451e-12   \n",
       "20               2.435204e-09  2.308255e-08        2.374595e-14  1.499045e-12   \n",
       "\n",
       "             Time (sec)            \n",
       "Approximator Polynomial  Rational  \n",
       "Num. Coefs                         \n",
       "4              0.304829  0.264304  \n",
       "5              0.275639  0.267124  \n",
       "6              0.285946  0.300395  \n",
       "7              0.344226  0.315251  \n",
       "8              0.329700  0.341809  \n",
       "9              0.354465  0.349608  \n",
       "10             0.369046  0.377657  \n",
       "11             0.384664  0.392696  \n",
       "12             0.376545  0.402900  \n",
       "13             0.388549  0.424211  \n",
       "14             0.375645  0.432685  \n",
       "15             0.398776  0.449777  \n",
       "16             0.388566  0.523832  \n",
       "17             0.390876  0.511815  \n",
       "18             0.396684  0.562794  \n",
       "19             0.383640  0.580423  \n",
       "20             0.374358  0.616725  "
      ]
     },
     "execution_count": 22,
     "metadata": {},
     "output_type": "execute_result"
    }
   ],
   "source": [
    "results"
   ]
  },
  {
   "cell_type": "code",
   "execution_count": 23,
   "id": "7bc5639e",
   "metadata": {},
   "outputs": [
    {
     "name": "stdout",
     "output_type": "stream",
     "text": [
      "\\begin{tabular}{lrrrrrr}\n",
      "\\toprule\n",
      " & \\multicolumn{2}{r}{Eigenvalue Error} & \\multicolumn{2}{r}{Approximation Error} & \\multicolumn{2}{r}{Time (sec)} \\\\\n",
      "Approximator & Polynomial & Rational & Polynomial & Rational & Polynomial & Rational \\\\\n",
      "Num. Coefs &  &  &  &  &  &  \\\\\n",
      "\\midrule\n",
      "4 & 1.1431e+02 & 8.5147e-03 & 8.0653e-04 & 6.4599e-06 & 0.3048 & 0.2643 \\\\\n",
      "5 & 2.3061e-01 & 4.7097e-04 & 4.8031e-05 & 8.5224e-08 & 0.2756 & 0.2671 \\\\\n",
      "6 & 1.5693e-02 & 1.7113e-06 & 2.4185e-06 & 1.0590e-09 & 0.2859 & 0.3004 \\\\\n",
      "7 & 4.4906e-04 & 1.7689e-09 & 1.0584e-07 & 1.6956e-12 & 0.3442 & 0.3153 \\\\\n",
      "8 & 1.2922e-05 & 3.9355e-10 & 4.1029e-09 & 3.8309e-13 & 0.3297 & 0.3418 \\\\\n",
      "9 & 2.2607e-07 & 1.4776e-10 & 1.4289e-10 & 2.3269e-14 & 0.3545 & 0.3496 \\\\\n",
      "10 & 1.2198e-08 & 4.5050e-11 & 4.5197e-12 & 1.3448e-14 & 0.3690 & 0.3777 \\\\\n",
      "11 & 2.5532e-09 & 2.9310e-08 & 1.3102e-13 & 1.9501e-14 & 0.3847 & 0.3927 \\\\\n",
      "12 & 2.5071e-09 & 1.4971e-07 & 5.5719e-15 & 5.2791e-14 & 0.3765 & 0.4029 \\\\\n",
      "13 & 2.4949e-09 & 3.4791e-08 & 3.9542e-15 & 2.5195e-14 & 0.3885 & 0.4242 \\\\\n",
      "14 & 2.5229e-09 & 7.1980e-08 & 4.0656e-15 & 2.3649e-13 & 0.3756 & 0.4327 \\\\\n",
      "15 & 2.4582e-09 & 5.4542e-08 & 2.2738e-14 & 3.5821e-13 & 0.3988 & 0.4498 \\\\\n",
      "16 & 2.4106e-09 & 5.0559e-08 & 3.1758e-14 & 9.5821e-13 & 0.3886 & 0.5238 \\\\\n",
      "17 & 2.3894e-09 & 6.9258e-08 & 3.9453e-14 & 1.3402e-12 & 0.3909 & 0.5118 \\\\\n",
      "18 & 2.4445e-09 & 5.3300e-08 & 1.6348e-14 & 8.5050e-13 & 0.3967 & 0.5628 \\\\\n",
      "19 & 2.4986e-09 & 1.5291e-08 & 1.7050e-14 & 2.1655e-12 & 0.3836 & 0.5804 \\\\\n",
      "20 & 2.4352e-09 & 2.3083e-08 & 2.3746e-14 & 1.4990e-12 & 0.3744 & 0.6167 \\\\\n",
      "\\bottomrule\n",
      "\\end{tabular}\n",
      "\n"
     ]
    }
   ],
   "source": [
    "formatters = [lambda x: f\"{x:.4e}\"] * 4\\\n",
    "                + [lambda x: f\"{x:.4f}\"] * 2\n",
    "print(results.to_latex(formatters=formatters))"
   ]
  },
  {
   "cell_type": "code",
   "execution_count": null,
   "id": "d9becb88",
   "metadata": {},
   "outputs": [],
   "source": []
  }
 ],
 "metadata": {
  "kernelspec": {
   "display_name": "Python 3 (ipykernel)",
   "language": "python",
   "name": "python3"
  },
  "language_info": {
   "codemirror_mode": {
    "name": "ipython",
    "version": 3
   },
   "file_extension": ".py",
   "mimetype": "text/x-python",
   "name": "python",
   "nbconvert_exporter": "python",
   "pygments_lexer": "ipython3",
   "version": "3.11.4"
  }
 },
 "nbformat": 4,
 "nbformat_minor": 5
}
