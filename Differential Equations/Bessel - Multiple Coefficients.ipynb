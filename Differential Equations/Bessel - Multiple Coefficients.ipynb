{
 "cells": [
  {
   "cell_type": "code",
   "execution_count": 1,
   "id": "35e32153-3f10-4f21-90c4-1536eab0c95f",
   "metadata": {},
   "outputs": [],
   "source": [
    "import numpy as np\n",
    "import matplotlib.pyplot as plt\n",
    "\n",
    "import pandas as pd\n",
    "\n",
    "import scipy"
   ]
  },
  {
   "cell_type": "code",
   "execution_count": 2,
   "id": "12dca64d",
   "metadata": {},
   "outputs": [],
   "source": [
    "import seaborn as sns"
   ]
  },
  {
   "cell_type": "code",
   "execution_count": 3,
   "id": "c4ca4c46",
   "metadata": {},
   "outputs": [],
   "source": [
    "import sys\n",
    "sys.path.append('..')\n",
    "\n",
    "from Approximators.Bernstein import CauchySimplex"
   ]
  },
  {
   "cell_type": "code",
   "execution_count": 4,
   "id": "e233f0ad-3cab-4a25-93a5-b2c5f04c85bd",
   "metadata": {},
   "outputs": [],
   "source": [
    "from utils import solve_multiple_coefficient_bessel"
   ]
  },
  {
   "cell_type": "markdown",
   "id": "14c2d722",
   "metadata": {},
   "source": [
    "Consider Bessel's differential equation with initial conditions $y(0)=y(1)=0$. Let $J_m(x)$ and $Y_m(x)$ be Bessel functions of the first and second kind, respectively. Then, this differential equation has solutions of the form\n",
    "\\begin{align}\n",
    "    y = c_1J_m(\\sqrt{\\lambda} x) + c_2Y_m(\\sqrt{\\lambda} x),\n",
    "\\end{align}\n",
    "for constants $c_1, c_2$. To satisfy the initial conditions, we must have that $c_2=0$ and $J_m(\\sqrt{\\lambda})=0$. Thus, the eigenvalues of Bessel's differential equation are the square of the roots of the $m$-th Bessel's function, $J_m$.\n",
    "\n",
    "Take the parameterization $x=e^z-1$. Then this differential equation can be rewritten as\n",
    "\\begin{align}\n",
    "    (1-e^{-z})^2y''(z)\\ +\\ e^{-z}(1-e^{-z})y'(z)\\ +\\ (\\lambda(e^z-1)^2-m^2)y(z)\\ =\\ 0,\n",
    "\\end{align}\n",
    "with initial conditions $y(0)=y(\\ln(2))=0$.\n",
    "\n",
    "Take the parameterization $x=e^{az}-1$. Then this differential equation can be rewritten as\n",
    "\\begin{align}\n",
    "    \\frac{1}{a^2}(1-e^{-az})^2y''(z)\\ +\\ \\frac{1}{a}e^{-az}(1-e^{-az})y'(z)\\ +\\ (\\lambda(e^{az}-1)^2-m^2)y(z)\\ =\\ 0,\n",
    "\\end{align}\n",
    "with initial conditions $y(0)=y(\\ln(2)/a)=0$.\n"
   ]
  },
  {
   "cell_type": "code",
   "execution_count": 5,
   "id": "ef893248",
   "metadata": {},
   "outputs": [],
   "source": [
    "m = 2\n",
    "a = 1"
   ]
  },
  {
   "cell_type": "code",
   "execution_count": 6,
   "id": "14f9db2e",
   "metadata": {},
   "outputs": [],
   "source": [
    "x = np.linspace(0, np.log(2) / a, 256)\n",
    "y = [(1 - np.exp(-a * x)) ** 2 / (a ** 2), np.exp(-a * x) * (1 - np.exp(-a * x)) / a, \n",
    "     (np.exp(a * x) - 1) ** 2]"
   ]
  },
  {
   "cell_type": "code",
   "execution_count": 7,
   "id": "77159b20",
   "metadata": {},
   "outputs": [],
   "source": [
    "n_eigenvals = 20"
   ]
  },
  {
   "cell_type": "code",
   "execution_count": 8,
   "id": "b9b163e6",
   "metadata": {},
   "outputs": [],
   "source": [
    "n_vals = np.arange(4, 15 + 1, 1)"
   ]
  },
  {
   "cell_type": "code",
   "execution_count": 9,
   "id": "d0ea5b36",
   "metadata": {},
   "outputs": [],
   "source": [
    "true_eigenvalues = scipy.special.jn_zeros(m, n_eigenvals)"
   ]
  },
  {
   "cell_type": "markdown",
   "id": "5194ff49",
   "metadata": {},
   "source": [
    "# Polynomial Approximation"
   ]
  },
  {
   "cell_type": "code",
   "execution_count": 10,
   "id": "b2a41d01",
   "metadata": {},
   "outputs": [],
   "source": [
    "polynomial_results = []"
   ]
  },
  {
   "cell_type": "code",
   "execution_count": 11,
   "id": "8e615a5b",
   "metadata": {
    "scrolled": true
   },
   "outputs": [
    {
     "name": "stdout",
     "output_type": "stream",
     "text": [
      "Starting n = 4\n",
      "2023-10-02 12:17:45,936 subsystems 0/1 INFO :: Building subproblem matrices 1/1 (~100%) Elapsed: 0s, Remaining: 0s, Rate: 4.7e+00/s\n",
      "Starting n = 5\n",
      "2023-10-02 12:17:46,208 subsystems 0/1 INFO :: Building subproblem matrices 1/1 (~100%) Elapsed: 0s, Remaining: 0s, Rate: 4.0e+00/s\n",
      "Starting n = 6\n",
      "2023-10-02 12:17:46,519 subsystems 0/1 INFO :: Building subproblem matrices 1/1 (~100%) Elapsed: 0s, Remaining: 0s, Rate: 3.5e+00/s\n",
      "Starting n = 7\n",
      "2023-10-02 12:17:46,882 subsystems 0/1 INFO :: Building subproblem matrices 1/1 (~100%) Elapsed: 0s, Remaining: 0s, Rate: 3.0e+00/s\n",
      "Starting n = 8\n",
      "2023-10-02 12:17:47,273 subsystems 0/1 INFO :: Building subproblem matrices 1/1 (~100%) Elapsed: 0s, Remaining: 0s, Rate: 2.7e+00/s\n",
      "Starting n = 9\n",
      "2023-10-02 12:17:47,701 subsystems 0/1 INFO :: Building subproblem matrices 1/1 (~100%) Elapsed: 0s, Remaining: 0s, Rate: 2.5e+00/s\n",
      "Starting n = 10\n",
      "2023-10-02 12:17:48,170 subsystems 0/1 INFO :: Building subproblem matrices 1/1 (~100%) Elapsed: 0s, Remaining: 0s, Rate: 2.2e+00/s\n",
      "Starting n = 11\n",
      "2023-10-02 12:17:48,663 subsystems 0/1 INFO :: Building subproblem matrices 1/1 (~100%) Elapsed: 0s, Remaining: 0s, Rate: 2.1e+00/s\n",
      "Starting n = 12\n",
      "2023-10-02 12:17:49,153 subsystems 0/1 INFO :: Building subproblem matrices 1/1 (~100%) Elapsed: 0s, Remaining: 0s, Rate: 2.1e+00/s\n",
      "Starting n = 13\n",
      "2023-10-02 12:17:49,638 subsystems 0/1 INFO :: Building subproblem matrices 1/1 (~100%) Elapsed: 0s, Remaining: 0s, Rate: 2.2e+00/s\n",
      "Starting n = 14\n",
      "2023-10-02 12:17:50,141 subsystems 0/1 INFO :: Building subproblem matrices 1/1 (~100%) Elapsed: 0s, Remaining: 0s, Rate: 2.1e+00/s\n",
      "Starting n = 15\n",
      "2023-10-02 12:17:50,626 subsystems 0/1 INFO :: Building subproblem matrices 1/1 (~100%) Elapsed: 0s, Remaining: 0s, Rate: 2.2e+00/s\n"
     ]
    }
   ],
   "source": [
    "for n in n_vals:\n",
    "    print(f\"Starting n = {n}\")\n",
    "\n",
    "    polynomial_approximator = CauchySimplex(n, 0).fit(x, y)\n",
    "    \n",
    "    solver = solve_multiple_coefficient_bessel(polynomial_approximator, a, m, Lx=0, Ux=np.log(2)/a, \n",
    "                                               Nx=256, dtype=np.float64, n_eigenvals=n_eigenvals)\n",
    "    \n",
    "    evals = np.sort(solver.eigenvalues.real)\n",
    "\n",
    "    ratio_dataframe = pd.DataFrame(abs(np.sqrt(evals) - true_eigenvalues), columns=['Eigenvalue Errors'])\n",
    "    ratio_dataframe['Approximator'] = 'Polynomial'\n",
    "    ratio_dataframe['Num. Coefs'] = n\n",
    "    \n",
    "    polynomial_results.append(ratio_dataframe)"
   ]
  },
  {
   "cell_type": "markdown",
   "id": "0367598e",
   "metadata": {},
   "source": [
    "# Rational Approximation"
   ]
  },
  {
   "cell_type": "code",
   "execution_count": 12,
   "id": "2df5fdf0",
   "metadata": {},
   "outputs": [],
   "source": [
    "rational_results = []"
   ]
  },
  {
   "cell_type": "code",
   "execution_count": 13,
   "id": "9ebcd3e9",
   "metadata": {
    "scrolled": true
   },
   "outputs": [
    {
     "name": "stdout",
     "output_type": "stream",
     "text": [
      "Starting n = 4\n",
      "2023-10-02 12:17:50,879 subsystems 0/1 INFO :: Building subproblem matrices 1/1 (~100%) Elapsed: 0s, Remaining: 0s, Rate: 4.8e+00/s\n",
      "Starting n = 5\n",
      "2023-10-02 12:17:51,166 subsystems 0/1 INFO :: Building subproblem matrices 1/1 (~100%) Elapsed: 0s, Remaining: 0s, Rate: 4.1e+00/s\n",
      "Starting n = 6\n",
      "2023-10-02 12:17:51,569 subsystems 0/1 INFO :: Building subproblem matrices 1/1 (~100%) Elapsed: 0s, Remaining: 0s, Rate: 3.5e+00/s\n",
      "Starting n = 7\n",
      "2023-10-02 12:17:51,935 subsystems 0/1 INFO :: Building subproblem matrices 1/1 (~100%) Elapsed: 0s, Remaining: 0s, Rate: 3.1e+00/s\n",
      "Starting n = 8\n",
      "2023-10-02 12:17:52,342 subsystems 0/1 INFO :: Building subproblem matrices 1/1 (~100%) Elapsed: 0s, Remaining: 0s, Rate: 2.8e+00/s\n",
      "Starting n = 9\n",
      "2023-10-02 12:17:52,802 subsystems 0/1 INFO :: Building subproblem matrices 1/1 (~100%) Elapsed: 0s, Remaining: 0s, Rate: 2.5e+00/s\n",
      "Starting n = 10\n",
      "2023-10-02 12:17:53,300 subsystems 0/1 INFO :: Building subproblem matrices 1/1 (~100%) Elapsed: 0s, Remaining: 0s, Rate: 2.3e+00/s\n",
      "Starting n = 11\n",
      "2023-10-02 12:17:53,838 subsystems 0/1 INFO :: Building subproblem matrices 1/1 (~100%) Elapsed: 0s, Remaining: 0s, Rate: 2.1e+00/s\n",
      "Starting n = 12\n",
      "2023-10-02 12:17:54,386 subsystems 0/1 INFO :: Building subproblem matrices 1/1 (~100%) Elapsed: 0s, Remaining: 0s, Rate: 2.1e+00/s\n",
      "Starting n = 13\n",
      "2023-10-02 12:17:55,003 subsystems 0/1 INFO :: Building subproblem matrices 1/1 (~100%) Elapsed: 1s, Remaining: 0s, Rate: 1.8e+00/s\n",
      "Starting n = 14\n",
      "2023-10-02 12:17:55,625 subsystems 0/1 INFO :: Building subproblem matrices 1/1 (~100%) Elapsed: 1s, Remaining: 0s, Rate: 1.8e+00/s\n",
      "Starting n = 15\n",
      "2023-10-02 12:17:56,301 subsystems 0/1 INFO :: Building subproblem matrices 1/1 (~100%) Elapsed: 1s, Remaining: 0s, Rate: 1.7e+00/s\n"
     ]
    }
   ],
   "source": [
    "for n in n_vals:\n",
    "    print(f\"Starting n = {n}\")\n",
    "\n",
    "    rational_approximator = CauchySimplex(n, n, hot_start=True, max_iter=500).fit(x, y)\n",
    "    \n",
    "    solver = solve_multiple_coefficient_bessel(rational_approximator, a, m, Lx=0, Ux=np.log(2)/a, \n",
    "                                               Nx=256, dtype=np.float64, n_eigenvals=20)\n",
    "    \n",
    "    evals = np.sort(solver.eigenvalues.real)\n",
    "\n",
    "    ratio_dataframe = pd.DataFrame(abs(np.sqrt(evals) - true_eigenvalues), columns=['Eigenvalue Errors'])\n",
    "    ratio_dataframe['Approximator'] = 'Rational'\n",
    "    ratio_dataframe['Num. Coefs'] = n\n",
    "    \n",
    "    rational_results.append(ratio_dataframe)"
   ]
  },
  {
   "cell_type": "markdown",
   "id": "a9b80e74",
   "metadata": {},
   "source": [
    "# Results"
   ]
  },
  {
   "cell_type": "code",
   "execution_count": 14,
   "id": "2d2d92d0",
   "metadata": {},
   "outputs": [],
   "source": [
    "results_df = pd.concat(polynomial_results + rational_results)"
   ]
  },
  {
   "cell_type": "code",
   "execution_count": 15,
   "id": "652363a9",
   "metadata": {},
   "outputs": [
    {
     "data": {
      "text/html": [
       "<div>\n",
       "<style scoped>\n",
       "    .dataframe tbody tr th:only-of-type {\n",
       "        vertical-align: middle;\n",
       "    }\n",
       "\n",
       "    .dataframe tbody tr th {\n",
       "        vertical-align: top;\n",
       "    }\n",
       "\n",
       "    .dataframe thead th {\n",
       "        text-align: right;\n",
       "    }\n",
       "</style>\n",
       "<table border=\"1\" class=\"dataframe\">\n",
       "  <thead>\n",
       "    <tr style=\"text-align: right;\">\n",
       "      <th></th>\n",
       "      <th>Eigenvalue Errors</th>\n",
       "      <th>Approximator</th>\n",
       "      <th>Num. Coefs</th>\n",
       "    </tr>\n",
       "  </thead>\n",
       "  <tbody>\n",
       "    <tr>\n",
       "      <th>0</th>\n",
       "      <td>0.000212</td>\n",
       "      <td>Polynomial</td>\n",
       "      <td>4</td>\n",
       "    </tr>\n",
       "    <tr>\n",
       "      <th>1</th>\n",
       "      <td>0.001484</td>\n",
       "      <td>Polynomial</td>\n",
       "      <td>4</td>\n",
       "    </tr>\n",
       "    <tr>\n",
       "      <th>2</th>\n",
       "      <td>0.002249</td>\n",
       "      <td>Polynomial</td>\n",
       "      <td>4</td>\n",
       "    </tr>\n",
       "    <tr>\n",
       "      <th>3</th>\n",
       "      <td>0.000598</td>\n",
       "      <td>Polynomial</td>\n",
       "      <td>4</td>\n",
       "    </tr>\n",
       "    <tr>\n",
       "      <th>4</th>\n",
       "      <td>0.003209</td>\n",
       "      <td>Polynomial</td>\n",
       "      <td>4</td>\n",
       "    </tr>\n",
       "  </tbody>\n",
       "</table>\n",
       "</div>"
      ],
      "text/plain": [
       "   Eigenvalue Errors Approximator  Num. Coefs\n",
       "0           0.000212   Polynomial           4\n",
       "1           0.001484   Polynomial           4\n",
       "2           0.002249   Polynomial           4\n",
       "3           0.000598   Polynomial           4\n",
       "4           0.003209   Polynomial           4"
      ]
     },
     "execution_count": 15,
     "metadata": {},
     "output_type": "execute_result"
    }
   ],
   "source": [
    "results_df.head()"
   ]
  },
  {
   "cell_type": "code",
   "execution_count": 16,
   "id": "49bf902c",
   "metadata": {},
   "outputs": [],
   "source": [
    "error_range = results_df.groupby(['Num. Coefs', 'Approximator']).max() \\\n",
    "                - results_df.groupby(['Num. Coefs', 'Approximator']).min()\n",
    "\n",
    "error_range.columns = ['Max Error - Min Error']"
   ]
  },
  {
   "cell_type": "code",
   "execution_count": 17,
   "id": "8c464f6c",
   "metadata": {},
   "outputs": [],
   "source": [
    "average_error = results_df.groupby(['Num. Coefs', 'Approximator']).mean()"
   ]
  },
  {
   "cell_type": "code",
   "execution_count": 18,
   "id": "2f3767ef",
   "metadata": {},
   "outputs": [],
   "source": [
    "results = pd.concat([error_range, average_error], axis=1).reset_index()\n",
    "results = results.pivot_table(index='Num. Coefs', columns='Approximator')"
   ]
  },
  {
   "cell_type": "code",
   "execution_count": 19,
   "id": "72cc43da",
   "metadata": {},
   "outputs": [
    {
     "name": "stdout",
     "output_type": "stream",
     "text": [
      "\\begin{tabular}{lrrrr}\n",
      "\\toprule\n",
      " & \\multicolumn{2}{r}{Eigenvalue Errors} & \\multicolumn{2}{r}{Max Error - Min Error} \\\\\n",
      "Approximator & Polynomial & Rational & Polynomial & Rational \\\\\n",
      "Num. Coefs &  &  &  &  \\\\\n",
      "\\midrule\n",
      "4 & 4.1888e-02 & 7.9795e-05 & 8.6690e-02 & 2.7114e-04 \\\\\n",
      "5 & 2.2415e-03 & 4.2772e-06 & 5.7719e-03 & 1.6971e-05 \\\\\n",
      "6 & 1.4512e-04 & 1.6216e-08 & 5.0030e-04 & 7.2248e-08 \\\\\n",
      "7 & 4.0651e-06 & 1.7213e-11 & 1.6292e-05 & 4.4031e-11 \\\\\n",
      "8 & 1.2205e-07 & 3.9424e-12 & 5.6306e-07 & 9.6909e-12 \\\\\n",
      "9 & 2.2847e-09 & 1.3109e-12 & 9.5004e-09 & 4.4480e-12 \\\\\n",
      "10 & 1.2554e-10 & 4.3703e-13 & 2.9574e-10 & 1.8181e-12 \\\\\n",
      "11 & 2.6813e-11 & 3.0657e-10 & 7.7361e-11 & 1.1138e-09 \\\\\n",
      "12 & 2.6194e-11 & 1.3935e-09 & 7.6032e-11 & 4.5828e-09 \\\\\n",
      "13 & 2.6151e-11 & 3.0991e-10 & 7.5919e-11 & 1.2948e-09 \\\\\n",
      "14 & 2.6209e-11 & 6.3271e-10 & 7.6112e-11 & 2.6343e-09 \\\\\n",
      "15 & 2.5694e-11 & 5.6791e-10 & 7.4406e-11 & 1.7449e-09 \\\\\n",
      "\\bottomrule\n",
      "\\end{tabular}\n",
      "\n"
     ]
    }
   ],
   "source": [
    "print(results.to_latex(float_format=lambda x: f\"{x:.4e}\"))"
   ]
  },
  {
   "cell_type": "code",
   "execution_count": null,
   "id": "d9becb88",
   "metadata": {},
   "outputs": [],
   "source": []
  }
 ],
 "metadata": {
  "kernelspec": {
   "display_name": "Python 3 (ipykernel)",
   "language": "python",
   "name": "python3"
  },
  "language_info": {
   "codemirror_mode": {
    "name": "ipython",
    "version": 3
   },
   "file_extension": ".py",
   "mimetype": "text/x-python",
   "name": "python",
   "nbconvert_exporter": "python",
   "pygments_lexer": "ipython3",
   "version": "3.11.4"
  }
 },
 "nbformat": 4,
 "nbformat_minor": 5
}
