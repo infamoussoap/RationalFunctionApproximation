{
 "cells": [
  {
   "cell_type": "code",
   "execution_count": 1,
   "id": "35e32153-3f10-4f21-90c4-1536eab0c95f",
   "metadata": {},
   "outputs": [],
   "source": [
    "import numpy as np\n",
    "import matplotlib.pyplot as plt\n",
    "\n",
    "import pandas as pd\n",
    "\n",
    "import scipy"
   ]
  },
  {
   "cell_type": "code",
   "execution_count": 2,
   "id": "5a2e121b",
   "metadata": {},
   "outputs": [],
   "source": [
    "import seaborn as sns"
   ]
  },
  {
   "cell_type": "code",
   "execution_count": 3,
   "id": "c4ca4c46",
   "metadata": {},
   "outputs": [],
   "source": [
    "import sys\n",
    "sys.path.append('..')\n",
    "\n",
    "from Approximators.Bernstein import CauchySimplex"
   ]
  },
  {
   "cell_type": "code",
   "execution_count": 4,
   "id": "e233f0ad-3cab-4a25-93a5-b2c5f04c85bd",
   "metadata": {},
   "outputs": [],
   "source": [
    "from utils import solve_single_coefficient_bessel"
   ]
  },
  {
   "cell_type": "markdown",
   "id": "1ac9112a",
   "metadata": {},
   "source": [
    "Consider Bessel's differential equation with initial conditions $y(1)=y(e^a)=0$. Let $J_m(x)$ and $Y_m(x)$ be Bessel functions of the first and second kind, respectively. Then, this differential equation has solutions of the form\n",
    "\\begin{align}\n",
    "    y\\ =\\ c_1\\, J_m(\\sqrt{\\lambda}\\, x)\\ +\\ c_2\\, Y_m(\\sqrt{\\lambda}\\, x),\n",
    "\\end{align}\n",
    "for constants $c_1, c_2$. To satisfy the initial conditions, substitution and solving for $c_1$ would show that if $\\lambda$ is an eigenvalue, it must satisfy\n",
    "\\begin{align}\n",
    "    \\frac{J_m(\\sqrt{\\lambda}\\, e^a)\\,Y_m(\\sqrt{\\lambda})}{J_m(\\sqrt{\\lambda})\\,Y_m(\\sqrt{\\lambda}\\, e^a)}\\ =\\ 1.\n",
    "\\end{align}\n",
    "\n",
    "Taking the parameterization $x=e^{az}$ yields the differential equation\n",
    "\\begin{align}\n",
    "    (\\lambda\\, e^{2ax}\\ -\\ m^2) y\\ +\\ \\frac{1}{a^2}y''\\ =\\ 0,\n",
    "\\end{align}\n",
    "with initial conditions $y(0)=y(1)=0$. Thus yielding an eigenvalue problem with one nonconstant coefficient."
   ]
  },
  {
   "cell_type": "code",
   "execution_count": 5,
   "id": "a4bfa5bb",
   "metadata": {},
   "outputs": [],
   "source": [
    "m = 2\n",
    "a = 4"
   ]
  },
  {
   "cell_type": "code",
   "execution_count": 6,
   "id": "3d7d1655",
   "metadata": {},
   "outputs": [],
   "source": [
    "x = np.linspace(0, 1, 256)\n",
    "y = np.exp(2 * a * x)"
   ]
  },
  {
   "cell_type": "code",
   "execution_count": 7,
   "id": "fa3eb625",
   "metadata": {},
   "outputs": [],
   "source": [
    "n_eigenvals = 20"
   ]
  },
  {
   "cell_type": "code",
   "execution_count": 8,
   "id": "7dc9057a",
   "metadata": {},
   "outputs": [],
   "source": [
    "n_vals = np.arange(4, 15 + 1, 1)"
   ]
  },
  {
   "cell_type": "markdown",
   "id": "3acccc36",
   "metadata": {},
   "source": [
    "# Polynomial Approximation"
   ]
  },
  {
   "cell_type": "code",
   "execution_count": 9,
   "id": "f658bed0",
   "metadata": {},
   "outputs": [],
   "source": [
    "polynomial_results = []"
   ]
  },
  {
   "cell_type": "code",
   "execution_count": 10,
   "id": "b3da58b4",
   "metadata": {
    "scrolled": true
   },
   "outputs": [
    {
     "name": "stdout",
     "output_type": "stream",
     "text": [
      "Starting n = 4\n",
      "2023-10-02 12:33:32,819 subsystems 0/1 INFO :: Building subproblem matrices 1/1 (~100%) Elapsed: 0s, Remaining: 0s, Rate: 9.4e+00/s\n",
      "Starting n = 5\n",
      "2023-10-02 12:33:32,960 subsystems 0/1 INFO :: Building subproblem matrices 1/1 (~100%) Elapsed: 0s, Remaining: 0s, Rate: 8.5e+00/s\n"
     ]
    },
    {
     "name": "stderr",
     "output_type": "stream",
     "text": [
      "/var/folders/99/5f_qszrn5y132sfcdd12k2f80000gn/T/ipykernel_85434/2131196856.py:11: RuntimeWarning: invalid value encountered in sqrt\n",
      "  ratio = scipy.special.jv(m, np.sqrt(evals)) * scipy.special.yv(m, np.sqrt(evals) * np.exp(a)) \\\n",
      "/var/folders/99/5f_qszrn5y132sfcdd12k2f80000gn/T/ipykernel_85434/2131196856.py:12: RuntimeWarning: invalid value encountered in sqrt\n",
      "  / (scipy.special.jv(m, np.sqrt(evals) * np.exp(a)) * scipy.special.yv(m, np.sqrt(evals)))\n"
     ]
    },
    {
     "name": "stdout",
     "output_type": "stream",
     "text": [
      "Starting n = 6\n",
      "2023-10-02 12:33:33,111 subsystems 0/1 INFO :: Building subproblem matrices 1/1 (~100%) Elapsed: 0s, Remaining: 0s, Rate: 7.7e+00/s\n",
      "Starting n = 7\n",
      "2023-10-02 12:33:33,274 subsystems 0/1 INFO :: Building subproblem matrices 1/1 (~100%) Elapsed: 0s, Remaining: 0s, Rate: 7.1e+00/s\n",
      "Starting n = 8\n",
      "2023-10-02 12:33:33,457 subsystems 0/1 INFO :: Building subproblem matrices 1/1 (~100%) Elapsed: 0s, Remaining: 0s, Rate: 6.2e+00/s\n",
      "Starting n = 9\n",
      "2023-10-02 12:33:33,653 subsystems 0/1 INFO :: Building subproblem matrices 1/1 (~100%) Elapsed: 0s, Remaining: 0s, Rate: 5.7e+00/s\n",
      "Starting n = 10\n",
      "2023-10-02 12:33:33,857 subsystems 0/1 INFO :: Building subproblem matrices 1/1 (~100%) Elapsed: 0s, Remaining: 0s, Rate: 5.5e+00/s\n",
      "Starting n = 11\n",
      "2023-10-02 12:33:34,073 subsystems 0/1 INFO :: Building subproblem matrices 1/1 (~100%) Elapsed: 0s, Remaining: 0s, Rate: 5.2e+00/s\n",
      "Starting n = 12\n",
      "2023-10-02 12:33:34,305 subsystems 0/1 INFO :: Building subproblem matrices 1/1 (~100%) Elapsed: 0s, Remaining: 0s, Rate: 4.7e+00/s\n",
      "Starting n = 13\n",
      "2023-10-02 12:33:34,552 subsystems 0/1 INFO :: Building subproblem matrices 1/1 (~100%) Elapsed: 0s, Remaining: 0s, Rate: 4.4e+00/s\n",
      "Starting n = 14\n",
      "2023-10-02 12:33:34,818 subsystems 0/1 INFO :: Building subproblem matrices 1/1 (~100%) Elapsed: 0s, Remaining: 0s, Rate: 4.1e+00/s\n",
      "Starting n = 15\n",
      "2023-10-02 12:33:35,094 subsystems 0/1 INFO :: Building subproblem matrices 1/1 (~100%) Elapsed: 0s, Remaining: 0s, Rate: 3.9e+00/s\n"
     ]
    }
   ],
   "source": [
    "for n in n_vals:\n",
    "    print(f\"Starting n = {n}\")\n",
    "\n",
    "    polynomial_approximator = CauchySimplex(n, 0).fit(x, y)\n",
    "    \n",
    "    solver = solve_single_coefficient_bessel(polynomial_approximator, a, m, Lx=0, Ux=1, Nx=256, \n",
    "                                             dtype=np.float64, n_eigenvals=n_eigenvals)\n",
    "    \n",
    "    evals = np.sort(solver.eigenvalues.real)\n",
    "    \n",
    "    ratio = scipy.special.jv(m, np.sqrt(evals)) * scipy.special.yv(m, np.sqrt(evals) * np.exp(a)) \\\n",
    "            / (scipy.special.jv(m, np.sqrt(evals) * np.exp(a)) * scipy.special.yv(m, np.sqrt(evals)))\n",
    "\n",
    "    ratio_dataframe = pd.DataFrame(abs(ratio), columns=['Eigenvalue Ratio'])\n",
    "    ratio_dataframe['Approximator'] = 'Polynomial'\n",
    "    ratio_dataframe['Num. Coefs'] = n\n",
    "    \n",
    "    polynomial_results.append(ratio_dataframe)"
   ]
  },
  {
   "cell_type": "markdown",
   "id": "8865d7ad",
   "metadata": {},
   "source": [
    "# Rational Approximation"
   ]
  },
  {
   "cell_type": "code",
   "execution_count": 11,
   "id": "0a4b5855",
   "metadata": {},
   "outputs": [],
   "source": [
    "rational_results = []"
   ]
  },
  {
   "cell_type": "code",
   "execution_count": 12,
   "id": "172c52cf",
   "metadata": {
    "scrolled": false
   },
   "outputs": [
    {
     "name": "stdout",
     "output_type": "stream",
     "text": [
      "Starting n = 4\n",
      "2023-10-02 12:33:35,290 subsystems 0/1 INFO :: Building subproblem matrices 1/1 (~100%) Elapsed: 0s, Remaining: 0s, Rate: 6.5e+00/s\n",
      "Starting n = 5\n",
      "2023-10-02 12:33:35,510 subsystems 0/1 INFO :: Building subproblem matrices 1/1 (~100%) Elapsed: 0s, Remaining: 0s, Rate: 5.6e+00/s\n",
      "Starting n = 6\n",
      "2023-10-02 12:33:35,750 subsystems 0/1 INFO :: Building subproblem matrices 1/1 (~100%) Elapsed: 0s, Remaining: 0s, Rate: 5.0e+00/s\n",
      "Starting n = 7\n",
      "2023-10-02 12:33:38,253 subsystems 0/1 INFO :: Building subproblem matrices 1/1 (~100%) Elapsed: 0s, Remaining: 0s, Rate: 4.4e+00/s\n",
      "Starting n = 8\n",
      "2023-10-02 12:33:42,933 subsystems 0/1 INFO :: Building subproblem matrices 1/1 (~100%) Elapsed: 0s, Remaining: 0s, Rate: 3.9e+00/s\n",
      "Starting n = 9\n",
      "2023-10-02 12:33:43,262 subsystems 0/1 INFO :: Building subproblem matrices 1/1 (~100%) Elapsed: 0s, Remaining: 0s, Rate: 3.5e+00/s\n",
      "Starting n = 10\n",
      "2023-10-02 12:33:43,631 subsystems 0/1 INFO :: Building subproblem matrices 1/1 (~100%) Elapsed: 0s, Remaining: 0s, Rate: 3.1e+00/s\n",
      "Starting n = 11\n",
      "2023-10-02 12:33:44,030 subsystems 0/1 INFO :: Building subproblem matrices 1/1 (~100%) Elapsed: 0s, Remaining: 0s, Rate: 2.8e+00/s\n",
      "Starting n = 12\n",
      "2023-10-02 12:33:44,456 subsystems 0/1 INFO :: Building subproblem matrices 1/1 (~100%) Elapsed: 0s, Remaining: 0s, Rate: 2.6e+00/s\n",
      "Starting n = 13\n",
      "2023-10-02 12:33:44,905 subsystems 0/1 INFO :: Building subproblem matrices 1/1 (~100%) Elapsed: 0s, Remaining: 0s, Rate: 2.5e+00/s\n",
      "Starting n = 14\n",
      "2023-10-02 12:33:45,391 subsystems 0/1 INFO :: Building subproblem matrices 1/1 (~100%) Elapsed: 0s, Remaining: 0s, Rate: 2.3e+00/s\n",
      "Starting n = 15\n",
      "2023-10-02 12:33:45,890 subsystems 0/1 INFO :: Building subproblem matrices 1/1 (~100%) Elapsed: 0s, Remaining: 0s, Rate: 2.2e+00/s\n"
     ]
    }
   ],
   "source": [
    "for n in n_vals:\n",
    "    print(f\"Starting n = {n}\")\n",
    "\n",
    "    rational_approximator = CauchySimplex(n, n, hot_start=True, max_iter=500).fit(x, y)\n",
    "    \n",
    "    solver = solve_single_coefficient_bessel(rational_approximator, a, m, Lx=0, Ux=1, Nx=256, \n",
    "                                             dtype=np.float64, n_eigenvals=20)\n",
    "    \n",
    "    evals = np.sort(solver.eigenvalues.real)\n",
    "    \n",
    "    ratio = scipy.special.jv(m, np.sqrt(evals)) * scipy.special.yv(m, np.sqrt(evals) * np.exp(a)) \\\n",
    "            / (scipy.special.jv(m, np.sqrt(evals) * np.exp(a)) * scipy.special.yv(m, np.sqrt(evals)))\n",
    "\n",
    "    ratio_dataframe = pd.DataFrame(abs(ratio), columns=['Eigenvalue Ratio'])\n",
    "    ratio_dataframe['Approximator'] = 'Rational'\n",
    "    ratio_dataframe['Num. Coefs'] = n\n",
    "    \n",
    "    rational_results.append(ratio_dataframe)"
   ]
  },
  {
   "cell_type": "markdown",
   "id": "fecbe85e",
   "metadata": {},
   "source": [
    "# Plots"
   ]
  },
  {
   "cell_type": "code",
   "execution_count": 13,
   "id": "441bc195",
   "metadata": {},
   "outputs": [],
   "source": [
    "results_df = pd.concat(polynomial_results + rational_results)"
   ]
  },
  {
   "cell_type": "code",
   "execution_count": 14,
   "id": "4ca55c1b",
   "metadata": {},
   "outputs": [
    {
     "data": {
      "text/html": [
       "<div>\n",
       "<style scoped>\n",
       "    .dataframe tbody tr th:only-of-type {\n",
       "        vertical-align: middle;\n",
       "    }\n",
       "\n",
       "    .dataframe tbody tr th {\n",
       "        vertical-align: top;\n",
       "    }\n",
       "\n",
       "    .dataframe thead th {\n",
       "        text-align: right;\n",
       "    }\n",
       "</style>\n",
       "<table border=\"1\" class=\"dataframe\">\n",
       "  <thead>\n",
       "    <tr style=\"text-align: right;\">\n",
       "      <th></th>\n",
       "      <th>Eigenvalue Ratio</th>\n",
       "      <th>Approximator</th>\n",
       "      <th>Num. Coefs</th>\n",
       "    </tr>\n",
       "  </thead>\n",
       "  <tbody>\n",
       "    <tr>\n",
       "      <th>0</th>\n",
       "      <td>NaN</td>\n",
       "      <td>Polynomial</td>\n",
       "      <td>4</td>\n",
       "    </tr>\n",
       "    <tr>\n",
       "      <th>1</th>\n",
       "      <td>0.000139</td>\n",
       "      <td>Polynomial</td>\n",
       "      <td>4</td>\n",
       "    </tr>\n",
       "    <tr>\n",
       "      <th>2</th>\n",
       "      <td>0.000534</td>\n",
       "      <td>Polynomial</td>\n",
       "      <td>4</td>\n",
       "    </tr>\n",
       "    <tr>\n",
       "      <th>3</th>\n",
       "      <td>0.000803</td>\n",
       "      <td>Polynomial</td>\n",
       "      <td>4</td>\n",
       "    </tr>\n",
       "    <tr>\n",
       "      <th>4</th>\n",
       "      <td>0.002728</td>\n",
       "      <td>Polynomial</td>\n",
       "      <td>4</td>\n",
       "    </tr>\n",
       "  </tbody>\n",
       "</table>\n",
       "</div>"
      ],
      "text/plain": [
       "   Eigenvalue Ratio Approximator  Num. Coefs\n",
       "0               NaN   Polynomial           4\n",
       "1          0.000139   Polynomial           4\n",
       "2          0.000534   Polynomial           4\n",
       "3          0.000803   Polynomial           4\n",
       "4          0.002728   Polynomial           4"
      ]
     },
     "execution_count": 14,
     "metadata": {},
     "output_type": "execute_result"
    }
   ],
   "source": [
    "results_df.head()"
   ]
  },
  {
   "cell_type": "code",
   "execution_count": 15,
   "id": "b0c52fa7",
   "metadata": {},
   "outputs": [],
   "source": [
    "error_range = results_df.groupby(['Num. Coefs', 'Approximator']).max() \\\n",
    "                - results_df.groupby(['Num. Coefs', 'Approximator']).min()\n",
    "\n",
    "error_range.columns = ['Max Ratio - Min Ratio']"
   ]
  },
  {
   "cell_type": "code",
   "execution_count": 16,
   "id": "fea4592c",
   "metadata": {},
   "outputs": [],
   "source": [
    "average_ratio = abs(results_df.groupby(['Num. Coefs', 'Approximator']).mean() - 1)\n",
    "average_ratio.columns = ['|Average Ratio - 1|']"
   ]
  },
  {
   "cell_type": "code",
   "execution_count": 17,
   "id": "c20b918f",
   "metadata": {},
   "outputs": [],
   "source": [
    "results = pd.concat([error_range, average_ratio], axis=1)\n",
    "results = results.pivot_table(index='Num. Coefs', columns='Approximator')"
   ]
  },
  {
   "cell_type": "code",
   "execution_count": 18,
   "id": "fc65cc64",
   "metadata": {},
   "outputs": [],
   "source": [
    "column_order = [('|Average Ratio - 1|', 'Polynomial'), ('|Average Ratio - 1|', 'Rational'),\n",
    "                ('Max Ratio - Min Ratio', 'Polynomial'), ('Max Ratio - Min Ratio', 'Rational')]"
   ]
  },
  {
   "cell_type": "code",
   "execution_count": 19,
   "id": "9c782d50",
   "metadata": {},
   "outputs": [],
   "source": [
    "results = results.loc[:, column_order]"
   ]
  },
  {
   "cell_type": "code",
   "execution_count": 20,
   "id": "7bc5639e",
   "metadata": {},
   "outputs": [
    {
     "name": "stdout",
     "output_type": "stream",
     "text": [
      "\\begin{tabular}{lrrrr}\n",
      "\\toprule\n",
      " & \\multicolumn{2}{r}{|Average Ratio - 1|} & \\multicolumn{2}{r}{Max Ratio - Min Ratio} \\\\\n",
      "Approximator & Polynomial & Rational & Polynomial & Rational \\\\\n",
      "Num. Coefs &  &  &  &  \\\\\n",
      "\\midrule\n",
      "4 & 9.9020e-01 & 4.6494e-04 & 4.4514e-02 & 8.2527e-02 \\\\\n",
      "5 & 9.3624e-01 & 4.0548e-06 & 2.6354e-01 & 2.4320e-04 \\\\\n",
      "6 & 7.2681e-01 & 6.0768e-10 & 1.4114e+00 & 2.5071e-06 \\\\\n",
      "7 & 2.0695e+00 & 2.6333e-07 & 2.3004e+01 & 6.8050e-05 \\\\\n",
      "8 & 8.1182e-02 & 4.7391e-08 & 3.2738e+00 & 2.8473e-05 \\\\\n",
      "9 & 6.6144e-02 & 4.3073e-09 & 2.0564e+00 & 1.0965e-06 \\\\\n",
      "10 & 7.6383e-04 & 7.7065e-09 & 1.3382e-01 & 1.2317e-07 \\\\\n",
      "11 & 2.4528e-04 & 2.0686e-09 & 3.7009e-02 & 4.7485e-08 \\\\\n",
      "12 & 2.6048e-05 & 2.5005e-09 & 5.3408e-03 & 2.5852e-07 \\\\\n",
      "13 & 4.5256e-07 & 9.8569e-10 & 3.0167e-04 & 1.0735e-07 \\\\\n",
      "14 & 2.3966e-07 & 1.7631e-09 & 3.2569e-05 & 1.1865e-07 \\\\\n",
      "15 & 3.0949e-08 & 5.7962e-09 & 5.9440e-06 & 1.6941e-06 \\\\\n",
      "\\bottomrule\n",
      "\\end{tabular}\n",
      "\n"
     ]
    }
   ],
   "source": [
    "print(results.to_latex(float_format=lambda x: f\"{x:.4e}\"))"
   ]
  },
  {
   "cell_type": "code",
   "execution_count": null,
   "id": "08ae23f6",
   "metadata": {},
   "outputs": [],
   "source": []
  }
 ],
 "metadata": {
  "kernelspec": {
   "display_name": "Python 3 (ipykernel)",
   "language": "python",
   "name": "python3"
  },
  "language_info": {
   "codemirror_mode": {
    "name": "ipython",
    "version": 3
   },
   "file_extension": ".py",
   "mimetype": "text/x-python",
   "name": "python",
   "nbconvert_exporter": "python",
   "pygments_lexer": "ipython3",
   "version": "3.11.4"
  }
 },
 "nbformat": 4,
 "nbformat_minor": 5
}
