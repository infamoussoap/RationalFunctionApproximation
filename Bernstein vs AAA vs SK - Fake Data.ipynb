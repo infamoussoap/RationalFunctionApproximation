{
 "cells": [
  {
   "cell_type": "code",
   "execution_count": 1,
   "id": "f4f0b91b",
   "metadata": {},
   "outputs": [],
   "source": [
    "import numpy as np\n",
    "import matplotlib.pyplot as plt"
   ]
  },
  {
   "cell_type": "code",
   "execution_count": 2,
   "id": "04e29e03",
   "metadata": {},
   "outputs": [],
   "source": [
    "import sys\n",
    "sys.path.insert(0, '..')\n",
    "\n",
    "from Approximators import SKApproximator, AAAApproximator, PolelessBarycentric\n",
    "import Approximators.Bernstein.CauchySimplex as Bernstein\n",
    "import Approximators.BernsteinPP.CauchySimplex as BernsteinPP\n",
    "import Approximators.WeightedBernstein.CauchySimplex as WeightedBernstein"
   ]
  },
  {
   "cell_type": "code",
   "execution_count": 3,
   "id": "fee5d946",
   "metadata": {},
   "outputs": [],
   "source": [
    "import Approximators\n",
    "Approximators.ignore_warnings()"
   ]
  },
  {
   "cell_type": "code",
   "execution_count": 4,
   "id": "ac0a5764",
   "metadata": {},
   "outputs": [],
   "source": [
    "n = 6\n",
    "m = n\n",
    "\n",
    "approximators = {'Sanathan-Koerner': SKApproximator(n, m),\n",
    "                 'AAA': AAAApproximator(n + 1, m + 1),\n",
    "                 'Bernstein': Bernstein(n, m, max_iter=500),\n",
    "                 'Poless Barycentric': PolelessBarycentric(n + 1, m + 1),\n",
    "                 'Polynomial': Bernstein(2 * n, 0)}"
   ]
  },
  {
   "cell_type": "markdown",
   "id": "3614cc16",
   "metadata": {},
   "source": [
    "# Fake Data"
   ]
  },
  {
   "cell_type": "code",
   "execution_count": 5,
   "id": "1dd6c451",
   "metadata": {},
   "outputs": [],
   "source": [
    "target_functions = [lambda x: 1 / (50 * ((x - 0.5) ** 2) + 1), \n",
    "                    lambda x: abs(10 * (x - 0.5)), \n",
    "                    lambda x: np.arctan(10 * (x - 0.5))]"
   ]
  },
  {
   "cell_type": "code",
   "execution_count": null,
   "id": "c8e6a884",
   "metadata": {},
   "outputs": [],
   "source": [
    "np.random.seed(0)\n",
    "\n",
    "linestyles = ['solid', 'dotted', 'dashed', 'dashdot']\n",
    "\n",
    "noise_levels = [1e-1, 1e-2]\n",
    "\n",
    "plt.figure(figsize=(12, 9))\n",
    "\n",
    "N = 400\n",
    "x = np.random.rand(N)\n",
    "\n",
    "count = 0\n",
    "x_vals = np.linspace(0, 1, 10_001)\n",
    "for row, f in enumerate(target_functions):\n",
    "    for col, noise in enumerate(noise_levels):\n",
    "        plt.subplot(len(target_functions), 2, count + 1)\n",
    "        \n",
    "        y = f(x) + np.random.normal(0, noise, size=N)\n",
    "        \n",
    "        plt.scatter(x, y, alpha=0.5, s=5, color='grey')\n",
    "        \n",
    "        for name, method in approximators.items():\n",
    "            method.fit(x, y)\n",
    "            \n",
    "            mse = np.mean((method(x) - y) ** 2)\n",
    "            plt.plot(x_vals, method(x_vals), label=f\"{name}: {mse:.4f}\", linewidth=2)\n",
    "\n",
    "        count += 1\n",
    "        \n",
    "        plt.legend()\n",
    "        \n",
    "        if col > 0:\n",
    "            plt.yticks([], [])\n",
    "        \n",
    "        if row == 0:\n",
    "            plt.ylim(-0.1, 1.25)\n",
    "            plt.xticks([], [])\n",
    "            plt.title(\"$\\sigma$ = \" + f\"{noise}\", fontsize=14)\n",
    "            \n",
    "        elif row == 1:\n",
    "            plt.ylim(-0.1, 5.25)\n",
    "            plt.xticks([], [])\n",
    "            \n",
    "        else:\n",
    "            plt.ylim(-1.6, 1.6)\n",
    "        \n",
    "plt.tight_layout()\n",
    "\n",
    "plt.savefig('fake_data.png', pad_inches=0, dpi=120)"
   ]
  }
 ],
 "metadata": {
  "kernelspec": {
   "display_name": "Python 3 (ipykernel)",
   "language": "python",
   "name": "python3"
  },
  "language_info": {
   "codemirror_mode": {
    "name": "ipython",
    "version": 3
   },
   "file_extension": ".py",
   "mimetype": "text/x-python",
   "name": "python",
   "nbconvert_exporter": "python",
   "pygments_lexer": "ipython3",
   "version": "3.10.6"
  }
 },
 "nbformat": 4,
 "nbformat_minor": 5
}
