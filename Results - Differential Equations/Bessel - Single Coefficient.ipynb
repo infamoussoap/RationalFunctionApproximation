{
 "cells": [
  {
   "cell_type": "code",
   "execution_count": 1,
   "id": "35e32153-3f10-4f21-90c4-1536eab0c95f",
   "metadata": {},
   "outputs": [],
   "source": [
    "import numpy as np\n",
    "import matplotlib.pyplot as plt\n",
    "\n",
    "import pandas as pd\n",
    "\n",
    "import scipy"
   ]
  },
  {
   "cell_type": "code",
   "execution_count": 2,
   "id": "5a2e121b",
   "metadata": {},
   "outputs": [],
   "source": [
    "import seaborn as sns"
   ]
  },
  {
   "cell_type": "code",
   "execution_count": 3,
   "id": "c4ca4c46",
   "metadata": {},
   "outputs": [],
   "source": [
    "import sys\n",
    "sys.path.append('..')\n",
    "\n",
    "from Approximators.Bernstein import CauchySimplex"
   ]
  },
  {
   "cell_type": "code",
   "execution_count": 4,
   "id": "e233f0ad-3cab-4a25-93a5-b2c5f04c85bd",
   "metadata": {},
   "outputs": [],
   "source": [
    "from utils import solve_single_coefficient_bessel"
   ]
  },
  {
   "cell_type": "markdown",
   "id": "1ac9112a",
   "metadata": {},
   "source": [
    "Consider Bessel's differential equation with initial conditions $y(1)=y(e^a)=0$. Let $J_m(x)$ and $Y_m(x)$ be Bessel functions of the first and second kind, respectively. Then, this differential equation has solutions of the form\n",
    "\\begin{align}\n",
    "    y\\ =\\ c_1\\, J_m(\\sqrt{\\lambda}\\, x)\\ +\\ c_2\\, Y_m(\\sqrt{\\lambda}\\, x),\n",
    "\\end{align}\n",
    "for constants $c_1, c_2$. To satisfy the initial conditions, substitution and solving for $c_1$ would show that if $\\lambda$ is an eigenvalue, it must satisfy\n",
    "\\begin{align}\n",
    "    \\frac{J_m(\\sqrt{\\lambda}\\, e^a)\\,Y_m(\\sqrt{\\lambda})}{J_m(\\sqrt{\\lambda})\\,Y_m(\\sqrt{\\lambda}\\, e^a)}\\ =\\ 1.\n",
    "\\end{align}\n",
    "\n",
    "Taking the parameterization $x=e^{az}$ yields the differential equation\n",
    "\\begin{align}\n",
    "    (\\lambda\\, e^{2ax}\\ -\\ m^2) y\\ +\\ \\frac{1}{a^2}y''\\ =\\ 0,\n",
    "\\end{align}\n",
    "with initial conditions $y(0)=y(1)=0$. Thus yielding an eigenvalue problem with one nonconstant coefficient."
   ]
  },
  {
   "cell_type": "code",
   "execution_count": 5,
   "id": "a4bfa5bb",
   "metadata": {},
   "outputs": [],
   "source": [
    "m = 2\n",
    "a = 4"
   ]
  },
  {
   "cell_type": "code",
   "execution_count": 6,
   "id": "3d7d1655",
   "metadata": {},
   "outputs": [],
   "source": [
    "x = np.linspace(0, 1, 256)\n",
    "y = np.exp(2 * a * x)"
   ]
  },
  {
   "cell_type": "code",
   "execution_count": 7,
   "id": "fa3eb625",
   "metadata": {},
   "outputs": [],
   "source": [
    "n_eigenvals = 20"
   ]
  },
  {
   "cell_type": "code",
   "execution_count": 8,
   "id": "7dc9057a",
   "metadata": {},
   "outputs": [],
   "source": [
    "n_vals = np.arange(4, 20 + 1, 1)"
   ]
  },
  {
   "cell_type": "code",
   "execution_count": 9,
   "id": "eafd0d82",
   "metadata": {},
   "outputs": [
    {
     "data": {
      "text/plain": [
       "4096"
      ]
     },
     "execution_count": 9,
     "metadata": {},
     "output_type": "execute_result"
    }
   ],
   "source": [
    "Nx = 2 ** 12\n",
    "Nx"
   ]
  },
  {
   "cell_type": "markdown",
   "id": "3acccc36",
   "metadata": {},
   "source": [
    "# Polynomial Approximation"
   ]
  },
  {
   "cell_type": "code",
   "execution_count": 10,
   "id": "b3da58b4",
   "metadata": {
    "scrolled": false
   },
   "outputs": [
    {
     "name": "stdout",
     "output_type": "stream",
     "text": [
      "Starting n = 4\n",
      "2023-10-05 12:39:49,446 subsystems 0/1 INFO :: Building subproblem matrices 1/1 (~100%) Elapsed: 0s, Remaining: 0s, Rate: 2.1e+00/s\n"
     ]
    },
    {
     "name": "stderr",
     "output_type": "stream",
     "text": [
      "/var/folders/99/5f_qszrn5y132sfcdd12k2f80000gn/T/ipykernel_8155/2280594852.py:13: RuntimeWarning: invalid value encountered in sqrt\n",
      "  ratio = scipy.special.jv(m, np.sqrt(evals)) * scipy.special.yv(m, np.sqrt(evals) * np.exp(a)) \\\n",
      "/var/folders/99/5f_qszrn5y132sfcdd12k2f80000gn/T/ipykernel_8155/2280594852.py:14: RuntimeWarning: invalid value encountered in sqrt\n",
      "  / (scipy.special.jv(m, np.sqrt(evals) * np.exp(a)) * scipy.special.yv(m, np.sqrt(evals)))\n"
     ]
    },
    {
     "name": "stdout",
     "output_type": "stream",
     "text": [
      "Starting n = 5\n",
      "2023-10-05 12:39:50,499 subsystems 0/1 INFO :: Building subproblem matrices 1/1 (~100%) Elapsed: 1s, Remaining: 0s, Rate: 1.9e+00/s\n",
      "Starting n = 6\n",
      "2023-10-05 12:39:51,519 subsystems 0/1 INFO :: Building subproblem matrices 1/1 (~100%) Elapsed: 1s, Remaining: 0s, Rate: 1.9e+00/s\n",
      "Starting n = 7\n",
      "2023-10-05 12:39:52,610 subsystems 0/1 INFO :: Building subproblem matrices 1/1 (~100%) Elapsed: 1s, Remaining: 0s, Rate: 1.7e+00/s\n",
      "Starting n = 8\n",
      "2023-10-05 12:39:53,710 subsystems 0/1 INFO :: Building subproblem matrices 1/1 (~100%) Elapsed: 1s, Remaining: 0s, Rate: 1.7e+00/s\n",
      "Starting n = 9\n",
      "2023-10-05 12:39:54,828 subsystems 0/1 INFO :: Building subproblem matrices 1/1 (~100%) Elapsed: 1s, Remaining: 0s, Rate: 1.6e+00/s\n",
      "Starting n = 10\n",
      "2023-10-05 12:39:56,032 subsystems 0/1 INFO :: Building subproblem matrices 1/1 (~100%) Elapsed: 1s, Remaining: 0s, Rate: 1.4e+00/s\n",
      "Starting n = 11\n",
      "2023-10-05 12:39:57,252 subsystems 0/1 INFO :: Building subproblem matrices 1/1 (~100%) Elapsed: 1s, Remaining: 0s, Rate: 1.4e+00/s\n",
      "Starting n = 12\n",
      "2023-10-05 12:39:58,528 subsystems 0/1 INFO :: Building subproblem matrices 1/1 (~100%) Elapsed: 1s, Remaining: 0s, Rate: 1.3e+00/s\n",
      "Starting n = 13\n",
      "2023-10-05 12:39:59,803 subsystems 0/1 INFO :: Building subproblem matrices 1/1 (~100%) Elapsed: 1s, Remaining: 0s, Rate: 1.3e+00/s\n",
      "Starting n = 14\n",
      "2023-10-05 12:40:01,157 subsystems 0/1 INFO :: Building subproblem matrices 1/1 (~100%) Elapsed: 1s, Remaining: 0s, Rate: 1.2e+00/s\n",
      "Starting n = 15\n",
      "2023-10-05 12:40:02,511 subsystems 0/1 INFO :: Building subproblem matrices 1/1 (~100%) Elapsed: 1s, Remaining: 0s, Rate: 1.2e+00/s\n",
      "Starting n = 16\n",
      "2023-10-05 12:40:03,929 subsystems 0/1 INFO :: Building subproblem matrices 1/1 (~100%) Elapsed: 1s, Remaining: 0s, Rate: 1.1e+00/s\n",
      "Starting n = 17\n",
      "2023-10-05 12:40:05,550 subsystems 0/1 INFO :: Building subproblem matrices 1/1 (~100%) Elapsed: 1s, Remaining: 0s, Rate: 9.7e-01/s\n",
      "Starting n = 18\n",
      "2023-10-05 12:40:07,181 subsystems 0/1 INFO :: Building subproblem matrices 1/1 (~100%) Elapsed: 1s, Remaining: 0s, Rate: 9.6e-01/s\n",
      "Starting n = 19\n",
      "2023-10-05 12:40:08,905 subsystems 0/1 INFO :: Building subproblem matrices 1/1 (~100%) Elapsed: 1s, Remaining: 0s, Rate: 8.6e-01/s\n",
      "Starting n = 20\n",
      "2023-10-05 12:40:10,548 subsystems 0/1 INFO :: Building subproblem matrices 1/1 (~100%) Elapsed: 1s, Remaining: 0s, Rate: 9.1e-01/s\n"
     ]
    }
   ],
   "source": [
    "polynomial_results = []\n",
    "\n",
    "for n in n_vals:\n",
    "    print(f\"Starting n = {n}\")\n",
    "    \n",
    "    polynomial_approximator = CauchySimplex(n, 0).fit(x, y)\n",
    "    \n",
    "    time_taken, solver = solve_single_coefficient_bessel(polynomial_approximator, a, m, Lx=0, Ux=1, Nx=Nx, \n",
    "                                                         dtype=np.float64, n_eigenvals=n_eigenvals, n_runs=5)\n",
    "    \n",
    "    evals = np.sort(solver.eigenvalues.real)\n",
    "    \n",
    "    ratio = scipy.special.jv(m, np.sqrt(evals)) * scipy.special.yv(m, np.sqrt(evals) * np.exp(a)) \\\n",
    "            / (scipy.special.jv(m, np.sqrt(evals) * np.exp(a)) * scipy.special.yv(m, np.sqrt(evals)))\n",
    "\n",
    "    y_pred = polynomial_approximator(x)\n",
    "    approximation_error = np.linalg.norm(y_pred - y)\n",
    "    \n",
    "    ratio_dataframe = pd.DataFrame(abs(ratio - 1), columns=['Eigenvalue Ratio Error'])\n",
    "    ratio_dataframe['Approximator'] = 'Polynomial'\n",
    "    ratio_dataframe['Approximation Error'] = approximation_error\n",
    "    ratio_dataframe['Num. Coefs'] = n\n",
    "    ratio_dataframe['Time'] = time_taken\n",
    "    \n",
    "    polynomial_results.append(ratio_dataframe)"
   ]
  },
  {
   "cell_type": "markdown",
   "id": "8865d7ad",
   "metadata": {},
   "source": [
    "# Rational Approximation"
   ]
  },
  {
   "cell_type": "code",
   "execution_count": 11,
   "id": "172c52cf",
   "metadata": {
    "scrolled": false
   },
   "outputs": [
    {
     "name": "stdout",
     "output_type": "stream",
     "text": [
      "Starting n = 4\n",
      "2023-10-05 12:40:11,651 subsystems 0/1 INFO :: Building subproblem matrices 1/1 (~100%) Elapsed: 1s, Remaining: 0s, Rate: 1.8e+00/s\n",
      "Starting n = 5\n",
      "2023-10-05 12:40:12,849 subsystems 0/1 INFO :: Building subproblem matrices 1/1 (~100%) Elapsed: 1s, Remaining: 0s, Rate: 1.5e+00/s\n",
      "Starting n = 6\n",
      "2023-10-05 12:40:14,100 subsystems 0/1 INFO :: Building subproblem matrices 1/1 (~100%) Elapsed: 1s, Remaining: 0s, Rate: 1.4e+00/s\n",
      "Starting n = 7\n",
      "2023-10-05 12:40:17,693 subsystems 0/1 INFO :: Building subproblem matrices 1/1 (~100%) Elapsed: 1s, Remaining: 0s, Rate: 1.3e+00/s\n",
      "Starting n = 8\n",
      "2023-10-05 12:40:23,296 subsystems 0/1 INFO :: Building subproblem matrices 1/1 (~100%) Elapsed: 1s, Remaining: 0s, Rate: 1.2e+00/s\n",
      "Starting n = 9\n",
      "2023-10-05 12:40:24,787 subsystems 0/1 INFO :: Building subproblem matrices 1/1 (~100%) Elapsed: 1s, Remaining: 0s, Rate: 1.1e+00/s\n",
      "Starting n = 10\n",
      "2023-10-05 12:40:26,312 subsystems 0/1 INFO :: Building subproblem matrices 1/1 (~100%) Elapsed: 1s, Remaining: 0s, Rate: 1.0e+00/s\n",
      "Starting n = 11\n",
      "2023-10-05 12:40:27,960 subsystems 0/1 INFO :: Building subproblem matrices 1/1 (~100%) Elapsed: 1s, Remaining: 0s, Rate: 9.3e-01/s\n",
      "Starting n = 12\n",
      "2023-10-05 12:40:29,645 subsystems 0/1 INFO :: Building subproblem matrices 1/1 (~100%) Elapsed: 1s, Remaining: 0s, Rate: 9.0e-01/s\n",
      "Starting n = 13\n",
      "2023-10-05 12:40:31,474 subsystems 0/1 INFO :: Building subproblem matrices 1/1 (~100%) Elapsed: 1s, Remaining: 0s, Rate: 8.0e-01/s\n",
      "Starting n = 14\n",
      "2023-10-05 12:40:33,339 subsystems 0/1 INFO :: Building subproblem matrices 1/1 (~100%) Elapsed: 1s, Remaining: 0s, Rate: 7.8e-01/s\n",
      "Starting n = 15\n",
      "2023-10-05 12:40:41,515 subsystems 0/1 INFO :: Building subproblem matrices 1/1 (~100%) Elapsed: 1s, Remaining: 0s, Rate: 7.4e-01/s\n",
      "Starting n = 16\n",
      "2023-10-05 12:40:45,608 subsystems 0/1 INFO :: Building subproblem matrices 1/1 (~100%) Elapsed: 1s, Remaining: 0s, Rate: 6.9e-01/s\n",
      "Starting n = 17\n",
      "2023-10-05 12:40:47,768 subsystems 0/1 INFO :: Building subproblem matrices 1/1 (~100%) Elapsed: 1s, Remaining: 0s, Rate: 7.2e-01/s\n",
      "Starting n = 18\n",
      "2023-10-05 12:40:49,518 subsystems 0/1 INFO :: Building subproblem matrices 1/1 (~100%) Elapsed: 1s, Remaining: 0s, Rate: 9.6e-01/s\n",
      "Starting n = 19\n",
      "2023-10-05 12:40:51,351 subsystems 0/1 INFO :: Building subproblem matrices 1/1 (~100%) Elapsed: 1s, Remaining: 0s, Rate: 9.7e-01/s\n",
      "Starting n = 20\n",
      "2023-10-05 12:40:53,225 subsystems 0/1 INFO :: Building subproblem matrices 1/1 (~100%) Elapsed: 1s, Remaining: 0s, Rate: 8.8e-01/s\n"
     ]
    }
   ],
   "source": [
    "rational_results = []\n",
    "\n",
    "for n in n_vals:\n",
    "    print(f\"Starting n = {n}\")\n",
    "\n",
    "    if n < 15:\n",
    "        rational_approximator = CauchySimplex(n, n, hot_start=True, max_iter=500, \n",
    "                                              gamma=0.9).fit(x, y)\n",
    "    else:\n",
    "        rational_approximator = CauchySimplex(n, n, hot_start=False, max_iter=500, \n",
    "                                              gamma=0.9, stopping_tol=0).fit(x, y)\n",
    "    \n",
    "    time_taken, solver = solve_single_coefficient_bessel(rational_approximator, a, m, Lx=0, Ux=1, Nx=Nx, \n",
    "                                                         dtype=np.float64, n_eigenvals=20, n_runs=5)\n",
    "    \n",
    "    evals = np.sort(solver.eigenvalues.real)\n",
    "    \n",
    "    ratio = scipy.special.jv(m, np.sqrt(evals)) * scipy.special.yv(m, np.sqrt(evals) * np.exp(a)) \\\n",
    "            / (scipy.special.jv(m, np.sqrt(evals) * np.exp(a)) * scipy.special.yv(m, np.sqrt(evals)))\n",
    "    \n",
    "    y_pred = rational_approximator(x)\n",
    "    approximation_error = np.linalg.norm(y_pred - y)\n",
    "\n",
    "    ratio_dataframe = pd.DataFrame(abs(ratio - 1), columns=['Eigenvalue Ratio Error'])\n",
    "    ratio_dataframe['Approximator'] = 'Rational'\n",
    "    ratio_dataframe['Approximation Error'] = approximation_error\n",
    "    ratio_dataframe['Num. Coefs'] = n\n",
    "    ratio_dataframe['Time'] = time_taken\n",
    "    \n",
    "    rational_results.append(ratio_dataframe)"
   ]
  },
  {
   "cell_type": "markdown",
   "id": "fecbe85e",
   "metadata": {},
   "source": [
    "# Plots"
   ]
  },
  {
   "cell_type": "code",
   "execution_count": 12,
   "id": "441bc195",
   "metadata": {},
   "outputs": [],
   "source": [
    "results_df = pd.concat(polynomial_results + rational_results)"
   ]
  },
  {
   "cell_type": "code",
   "execution_count": 13,
   "id": "4ca55c1b",
   "metadata": {},
   "outputs": [
    {
     "data": {
      "text/html": [
       "<div>\n",
       "<style scoped>\n",
       "    .dataframe tbody tr th:only-of-type {\n",
       "        vertical-align: middle;\n",
       "    }\n",
       "\n",
       "    .dataframe tbody tr th {\n",
       "        vertical-align: top;\n",
       "    }\n",
       "\n",
       "    .dataframe thead th {\n",
       "        text-align: right;\n",
       "    }\n",
       "</style>\n",
       "<table border=\"1\" class=\"dataframe\">\n",
       "  <thead>\n",
       "    <tr style=\"text-align: right;\">\n",
       "      <th></th>\n",
       "      <th>Eigenvalue Ratio Error</th>\n",
       "      <th>Approximator</th>\n",
       "      <th>Approximation Error</th>\n",
       "      <th>Num. Coefs</th>\n",
       "      <th>Time</th>\n",
       "    </tr>\n",
       "  </thead>\n",
       "  <tbody>\n",
       "    <tr>\n",
       "      <th>0</th>\n",
       "      <td>NaN</td>\n",
       "      <td>Polynomial</td>\n",
       "      <td>555.272752</td>\n",
       "      <td>4</td>\n",
       "      <td>0.242821</td>\n",
       "    </tr>\n",
       "    <tr>\n",
       "      <th>1</th>\n",
       "      <td>1.000139</td>\n",
       "      <td>Polynomial</td>\n",
       "      <td>555.272752</td>\n",
       "      <td>4</td>\n",
       "      <td>0.242821</td>\n",
       "    </tr>\n",
       "    <tr>\n",
       "      <th>2</th>\n",
       "      <td>0.999466</td>\n",
       "      <td>Polynomial</td>\n",
       "      <td>555.272752</td>\n",
       "      <td>4</td>\n",
       "      <td>0.242821</td>\n",
       "    </tr>\n",
       "    <tr>\n",
       "      <th>3</th>\n",
       "      <td>0.999197</td>\n",
       "      <td>Polynomial</td>\n",
       "      <td>555.272752</td>\n",
       "      <td>4</td>\n",
       "      <td>0.242821</td>\n",
       "    </tr>\n",
       "    <tr>\n",
       "      <th>4</th>\n",
       "      <td>0.997272</td>\n",
       "      <td>Polynomial</td>\n",
       "      <td>555.272752</td>\n",
       "      <td>4</td>\n",
       "      <td>0.242821</td>\n",
       "    </tr>\n",
       "  </tbody>\n",
       "</table>\n",
       "</div>"
      ],
      "text/plain": [
       "   Eigenvalue Ratio Error Approximator  Approximation Error  Num. Coefs  \\\n",
       "0                     NaN   Polynomial           555.272752           4   \n",
       "1                1.000139   Polynomial           555.272752           4   \n",
       "2                0.999466   Polynomial           555.272752           4   \n",
       "3                0.999197   Polynomial           555.272752           4   \n",
       "4                0.997272   Polynomial           555.272752           4   \n",
       "\n",
       "       Time  \n",
       "0  0.242821  \n",
       "1  0.242821  \n",
       "2  0.242821  \n",
       "3  0.242821  \n",
       "4  0.242821  "
      ]
     },
     "execution_count": 13,
     "metadata": {},
     "output_type": "execute_result"
    }
   ],
   "source": [
    "results_df.head()"
   ]
  },
  {
   "cell_type": "code",
   "execution_count": 14,
   "id": "fea4592c",
   "metadata": {},
   "outputs": [],
   "source": [
    "average_ratio = abs(results_df.groupby(['Num. Coefs', 'Approximator']).mean())\n",
    "\n",
    "average_ratio = average_ratio['Eigenvalue Ratio Error'].copy()\n",
    "average_ratio.name = 'Eigenvalue Ratio Error'"
   ]
  },
  {
   "cell_type": "code",
   "execution_count": 15,
   "id": "93315d34",
   "metadata": {},
   "outputs": [],
   "source": [
    "approximation_error = results_df.groupby(['Num. Coefs', 'Approximator']).mean()['Approximation Error']\n",
    "\n",
    "time_taken = results_df.groupby(['Num. Coefs', 'Approximator']).mean()['Time']\n",
    "time_taken.name = 'Time (sec)'"
   ]
  },
  {
   "cell_type": "code",
   "execution_count": 16,
   "id": "c20b918f",
   "metadata": {},
   "outputs": [],
   "source": [
    "results = pd.concat([average_ratio, approximation_error, time_taken], axis=1)\n",
    "results = results.pivot_table(index='Num. Coefs', columns='Approximator')"
   ]
  },
  {
   "cell_type": "code",
   "execution_count": 17,
   "id": "fc65cc64",
   "metadata": {},
   "outputs": [],
   "source": [
    "column_order = [(col_name, approximator_type) \n",
    "                for col_name in ['Eigenvalue Ratio Error', 'Approximation Error', 'Time (sec)']\n",
    "                for approximator_type in ['Polynomial', 'Rational']]"
   ]
  },
  {
   "cell_type": "code",
   "execution_count": 18,
   "id": "9c782d50",
   "metadata": {},
   "outputs": [],
   "source": [
    "results = results.loc[:, column_order]"
   ]
  },
  {
   "cell_type": "code",
   "execution_count": 19,
   "id": "70c1e051",
   "metadata": {},
   "outputs": [
    {
     "data": {
      "text/html": [
       "<div>\n",
       "<style scoped>\n",
       "    .dataframe tbody tr th:only-of-type {\n",
       "        vertical-align: middle;\n",
       "    }\n",
       "\n",
       "    .dataframe tbody tr th {\n",
       "        vertical-align: top;\n",
       "    }\n",
       "\n",
       "    .dataframe thead tr th {\n",
       "        text-align: left;\n",
       "    }\n",
       "\n",
       "    .dataframe thead tr:last-of-type th {\n",
       "        text-align: right;\n",
       "    }\n",
       "</style>\n",
       "<table border=\"1\" class=\"dataframe\">\n",
       "  <thead>\n",
       "    <tr>\n",
       "      <th></th>\n",
       "      <th colspan=\"2\" halign=\"left\">Eigenvalue Ratio Error</th>\n",
       "      <th colspan=\"2\" halign=\"left\">Approximation Error</th>\n",
       "      <th colspan=\"2\" halign=\"left\">Time (sec)</th>\n",
       "    </tr>\n",
       "    <tr>\n",
       "      <th>Approximator</th>\n",
       "      <th>Polynomial</th>\n",
       "      <th>Rational</th>\n",
       "      <th>Polynomial</th>\n",
       "      <th>Rational</th>\n",
       "      <th>Polynomial</th>\n",
       "      <th>Rational</th>\n",
       "    </tr>\n",
       "    <tr>\n",
       "      <th>Num. Coefs</th>\n",
       "      <th></th>\n",
       "      <th></th>\n",
       "      <th></th>\n",
       "      <th></th>\n",
       "      <th></th>\n",
       "      <th></th>\n",
       "    </tr>\n",
       "  </thead>\n",
       "  <tbody>\n",
       "    <tr>\n",
       "      <th>4</th>\n",
       "      <td>1.009375e+00</td>\n",
       "      <td>8.547040e-03</td>\n",
       "      <td>5.552728e+02</td>\n",
       "      <td>2.370116e-02</td>\n",
       "      <td>0.242821</td>\n",
       "      <td>0.213540</td>\n",
       "    </tr>\n",
       "    <tr>\n",
       "      <th>5</th>\n",
       "      <td>9.709918e-01</td>\n",
       "      <td>3.059161e-05</td>\n",
       "      <td>1.708277e+02</td>\n",
       "      <td>2.360691e-04</td>\n",
       "      <td>0.203801</td>\n",
       "      <td>0.233623</td>\n",
       "    </tr>\n",
       "    <tr>\n",
       "      <th>6</th>\n",
       "      <td>1.084594e+00</td>\n",
       "      <td>2.866464e-07</td>\n",
       "      <td>4.593033e+01</td>\n",
       "      <td>1.643591e-06</td>\n",
       "      <td>0.201102</td>\n",
       "      <td>0.243548</td>\n",
       "    </tr>\n",
       "    <tr>\n",
       "      <th>7</th>\n",
       "      <td>3.334697e+00</td>\n",
       "      <td>8.994893e-06</td>\n",
       "      <td>1.095105e+01</td>\n",
       "      <td>5.893155e-05</td>\n",
       "      <td>0.215873</td>\n",
       "      <td>0.260610</td>\n",
       "    </tr>\n",
       "    <tr>\n",
       "      <th>8</th>\n",
       "      <td>5.468155e-01</td>\n",
       "      <td>3.067684e-06</td>\n",
       "      <td>2.343200e+00</td>\n",
       "      <td>2.070101e-05</td>\n",
       "      <td>0.215777</td>\n",
       "      <td>0.266366</td>\n",
       "    </tr>\n",
       "    <tr>\n",
       "      <th>9</th>\n",
       "      <td>1.709507e-01</td>\n",
       "      <td>1.779364e-07</td>\n",
       "      <td>4.544228e-01</td>\n",
       "      <td>9.435233e-07</td>\n",
       "      <td>0.221580</td>\n",
       "      <td>0.292764</td>\n",
       "    </tr>\n",
       "    <tr>\n",
       "      <th>10</th>\n",
       "      <td>1.468125e-02</td>\n",
       "      <td>2.902204e-08</td>\n",
       "      <td>8.054182e-02</td>\n",
       "      <td>2.688540e-07</td>\n",
       "      <td>0.239414</td>\n",
       "      <td>0.297322</td>\n",
       "    </tr>\n",
       "    <tr>\n",
       "      <th>11</th>\n",
       "      <td>3.351538e-03</td>\n",
       "      <td>7.725405e-09</td>\n",
       "      <td>1.313905e-02</td>\n",
       "      <td>6.666913e-08</td>\n",
       "      <td>0.238419</td>\n",
       "      <td>0.322058</td>\n",
       "    </tr>\n",
       "    <tr>\n",
       "      <th>12</th>\n",
       "      <td>4.607940e-04</td>\n",
       "      <td>2.149476e-08</td>\n",
       "      <td>1.984840e-03</td>\n",
       "      <td>1.191888e-07</td>\n",
       "      <td>0.251918</td>\n",
       "      <td>0.330979</td>\n",
       "    </tr>\n",
       "    <tr>\n",
       "      <th>13</th>\n",
       "      <td>4.148658e-05</td>\n",
       "      <td>1.170742e-08</td>\n",
       "      <td>2.791210e-04</td>\n",
       "      <td>1.031848e-07</td>\n",
       "      <td>0.252107</td>\n",
       "      <td>0.358199</td>\n",
       "    </tr>\n",
       "    <tr>\n",
       "      <th>14</th>\n",
       "      <td>3.719098e-06</td>\n",
       "      <td>1.479714e-07</td>\n",
       "      <td>3.670831e-05</td>\n",
       "      <td>1.558012e-06</td>\n",
       "      <td>0.267131</td>\n",
       "      <td>0.369251</td>\n",
       "    </tr>\n",
       "    <tr>\n",
       "      <th>15</th>\n",
       "      <td>6.186236e-07</td>\n",
       "      <td>1.557391e-08</td>\n",
       "      <td>4.533177e-06</td>\n",
       "      <td>1.974167e-07</td>\n",
       "      <td>0.268435</td>\n",
       "      <td>0.397978</td>\n",
       "    </tr>\n",
       "    <tr>\n",
       "      <th>16</th>\n",
       "      <td>6.534123e-08</td>\n",
       "      <td>4.688327e-09</td>\n",
       "      <td>5.275581e-07</td>\n",
       "      <td>5.161350e-08</td>\n",
       "      <td>0.295124</td>\n",
       "      <td>0.400566</td>\n",
       "    </tr>\n",
       "    <tr>\n",
       "      <th>17</th>\n",
       "      <td>4.472377e-09</td>\n",
       "      <td>1.905913e-08</td>\n",
       "      <td>5.804474e-08</td>\n",
       "      <td>1.392351e-08</td>\n",
       "      <td>0.319384</td>\n",
       "      <td>0.387579</td>\n",
       "    </tr>\n",
       "    <tr>\n",
       "      <th>18</th>\n",
       "      <td>4.451225e-10</td>\n",
       "      <td>2.010802e-09</td>\n",
       "      <td>6.055588e-09</td>\n",
       "      <td>6.054913e-09</td>\n",
       "      <td>0.314581</td>\n",
       "      <td>0.306800</td>\n",
       "    </tr>\n",
       "    <tr>\n",
       "      <th>19</th>\n",
       "      <td>1.729838e-10</td>\n",
       "      <td>1.470985e-10</td>\n",
       "      <td>6.030244e-10</td>\n",
       "      <td>6.024016e-10</td>\n",
       "      <td>0.339985</td>\n",
       "      <td>0.306929</td>\n",
       "    </tr>\n",
       "    <tr>\n",
       "      <th>20</th>\n",
       "      <td>2.300126e-10</td>\n",
       "      <td>5.119984e-10</td>\n",
       "      <td>9.902012e-11</td>\n",
       "      <td>8.103168e-11</td>\n",
       "      <td>0.319141</td>\n",
       "      <td>0.325771</td>\n",
       "    </tr>\n",
       "  </tbody>\n",
       "</table>\n",
       "</div>"
      ],
      "text/plain": [
       "             Eigenvalue Ratio Error               Approximation Error  \\\n",
       "Approximator             Polynomial      Rational          Polynomial   \n",
       "Num. Coefs                                                              \n",
       "4                      1.009375e+00  8.547040e-03        5.552728e+02   \n",
       "5                      9.709918e-01  3.059161e-05        1.708277e+02   \n",
       "6                      1.084594e+00  2.866464e-07        4.593033e+01   \n",
       "7                      3.334697e+00  8.994893e-06        1.095105e+01   \n",
       "8                      5.468155e-01  3.067684e-06        2.343200e+00   \n",
       "9                      1.709507e-01  1.779364e-07        4.544228e-01   \n",
       "10                     1.468125e-02  2.902204e-08        8.054182e-02   \n",
       "11                     3.351538e-03  7.725405e-09        1.313905e-02   \n",
       "12                     4.607940e-04  2.149476e-08        1.984840e-03   \n",
       "13                     4.148658e-05  1.170742e-08        2.791210e-04   \n",
       "14                     3.719098e-06  1.479714e-07        3.670831e-05   \n",
       "15                     6.186236e-07  1.557391e-08        4.533177e-06   \n",
       "16                     6.534123e-08  4.688327e-09        5.275581e-07   \n",
       "17                     4.472377e-09  1.905913e-08        5.804474e-08   \n",
       "18                     4.451225e-10  2.010802e-09        6.055588e-09   \n",
       "19                     1.729838e-10  1.470985e-10        6.030244e-10   \n",
       "20                     2.300126e-10  5.119984e-10        9.902012e-11   \n",
       "\n",
       "                           Time (sec)            \n",
       "Approximator      Rational Polynomial  Rational  \n",
       "Num. Coefs                                       \n",
       "4             2.370116e-02   0.242821  0.213540  \n",
       "5             2.360691e-04   0.203801  0.233623  \n",
       "6             1.643591e-06   0.201102  0.243548  \n",
       "7             5.893155e-05   0.215873  0.260610  \n",
       "8             2.070101e-05   0.215777  0.266366  \n",
       "9             9.435233e-07   0.221580  0.292764  \n",
       "10            2.688540e-07   0.239414  0.297322  \n",
       "11            6.666913e-08   0.238419  0.322058  \n",
       "12            1.191888e-07   0.251918  0.330979  \n",
       "13            1.031848e-07   0.252107  0.358199  \n",
       "14            1.558012e-06   0.267131  0.369251  \n",
       "15            1.974167e-07   0.268435  0.397978  \n",
       "16            5.161350e-08   0.295124  0.400566  \n",
       "17            1.392351e-08   0.319384  0.387579  \n",
       "18            6.054913e-09   0.314581  0.306800  \n",
       "19            6.024016e-10   0.339985  0.306929  \n",
       "20            8.103168e-11   0.319141  0.325771  "
      ]
     },
     "execution_count": 19,
     "metadata": {},
     "output_type": "execute_result"
    }
   ],
   "source": [
    "results"
   ]
  },
  {
   "cell_type": "code",
   "execution_count": 20,
   "id": "58f845fd",
   "metadata": {},
   "outputs": [
    {
     "name": "stdout",
     "output_type": "stream",
     "text": [
      "\\begin{tabular}{lrrrrrr}\n",
      "\\toprule\n",
      " & \\multicolumn{2}{r}{Eigenvalue Ratio Error} & \\multicolumn{2}{r}{Approximation Error} & \\multicolumn{2}{r}{Time (sec)} \\\\\n",
      "Approximator & Polynomial & Rational & Polynomial & Rational & Polynomial & Rational \\\\\n",
      "Num. Coefs &  &  &  &  &  &  \\\\\n",
      "\\midrule\n",
      "4 & 1.0094e+00 & 8.5470e-03 & 5.5527e+02 & 2.3701e-02 & 0.2428 & 0.2135 \\\\\n",
      "5 & 9.7099e-01 & 3.0592e-05 & 1.7083e+02 & 2.3607e-04 & 0.2038 & 0.2336 \\\\\n",
      "6 & 1.0846e+00 & 2.8665e-07 & 4.5930e+01 & 1.6436e-06 & 0.2011 & 0.2435 \\\\\n",
      "7 & 3.3347e+00 & 8.9949e-06 & 1.0951e+01 & 5.8932e-05 & 0.2159 & 0.2606 \\\\\n",
      "8 & 5.4682e-01 & 3.0677e-06 & 2.3432e+00 & 2.0701e-05 & 0.2158 & 0.2664 \\\\\n",
      "9 & 1.7095e-01 & 1.7794e-07 & 4.5442e-01 & 9.4352e-07 & 0.2216 & 0.2928 \\\\\n",
      "10 & 1.4681e-02 & 2.9022e-08 & 8.0542e-02 & 2.6885e-07 & 0.2394 & 0.2973 \\\\\n",
      "11 & 3.3515e-03 & 7.7254e-09 & 1.3139e-02 & 6.6669e-08 & 0.2384 & 0.3221 \\\\\n",
      "12 & 4.6079e-04 & 2.1495e-08 & 1.9848e-03 & 1.1919e-07 & 0.2519 & 0.3310 \\\\\n",
      "13 & 4.1487e-05 & 1.1707e-08 & 2.7912e-04 & 1.0318e-07 & 0.2521 & 0.3582 \\\\\n",
      "14 & 3.7191e-06 & 1.4797e-07 & 3.6708e-05 & 1.5580e-06 & 0.2671 & 0.3693 \\\\\n",
      "15 & 6.1862e-07 & 1.5574e-08 & 4.5332e-06 & 1.9742e-07 & 0.2684 & 0.3980 \\\\\n",
      "16 & 6.5341e-08 & 4.6883e-09 & 5.2756e-07 & 5.1613e-08 & 0.2951 & 0.4006 \\\\\n",
      "17 & 4.4724e-09 & 1.9059e-08 & 5.8045e-08 & 1.3924e-08 & 0.3194 & 0.3876 \\\\\n",
      "18 & 4.4512e-10 & 2.0108e-09 & 6.0556e-09 & 6.0549e-09 & 0.3146 & 0.3068 \\\\\n",
      "19 & 1.7298e-10 & 1.4710e-10 & 6.0302e-10 & 6.0240e-10 & 0.3400 & 0.3069 \\\\\n",
      "20 & 2.3001e-10 & 5.1200e-10 & 9.9020e-11 & 8.1032e-11 & 0.3191 & 0.3258 \\\\\n",
      "\\bottomrule\n",
      "\\end{tabular}\n",
      "\n"
     ]
    }
   ],
   "source": [
    "formatters = [lambda x: f\"{x:.4e}\"] * 4\\\n",
    "                + [lambda x: f\"{x:.4f}\"] * 2\n",
    "print(results.to_latex(formatters=formatters))"
   ]
  },
  {
   "cell_type": "code",
   "execution_count": null,
   "id": "9f2e4a3a",
   "metadata": {},
   "outputs": [],
   "source": []
  }
 ],
 "metadata": {
  "kernelspec": {
   "display_name": "Python 3 (ipykernel)",
   "language": "python",
   "name": "python3"
  },
  "language_info": {
   "codemirror_mode": {
    "name": "ipython",
    "version": 3
   },
   "file_extension": ".py",
   "mimetype": "text/x-python",
   "name": "python",
   "nbconvert_exporter": "python",
   "pygments_lexer": "ipython3",
   "version": "3.11.4"
  }
 },
 "nbformat": 4,
 "nbformat_minor": 5
}
